{
 "cells": [
  {
   "cell_type": "code",
   "execution_count": 9,
   "metadata": {},
   "outputs": [
    {
     "name": "stdout",
     "output_type": "stream",
     "text": [
      "Retrieving: http://py4e-data.dr-chuck.net/comments_1503044.xml\n",
      "Retrieved 4208 characters\n",
      "Count: 50\n",
      "Sum: 2759\n"
     ]
    }
   ],
   "source": [
    "import urllib.request, urllib.parse, urllib.error\n",
    "import xml.etree.ElementTree as ET\n",
    "import ssl\n",
    "\n",
    "# Ignore SSL certificate errors\n",
    "ctx = ssl.create_default_context()\n",
    "ctx.check_hostname = False\n",
    "ctx.verify_mode = ssl.CERT_NONE\n",
    "\n",
    "url = input(\"Enter URL:\")\n",
    "if len(url) < 1:\n",
    "    print(\"Please enter a valid URL\")\n",
    "else:\n",
    "    print(\"Retrieving:\", url)\n",
    "    xml = urllib.request.urlopen(url, context=ctx).read()\n",
    "    print(\"Retrieved\", len(xml), \"characters\")\n",
    "    tree = ET.fromstring(xml)\n",
    "    counts = tree.findall('.//count')\n",
    "    print(\"Count:\", len(counts))\n",
    "    sum=0\n",
    "    for count in counts:\n",
    "        sum+=int(count.text)\n",
    "\n",
    "print(\"Sum:\",sum)"
   ]
  },
  {
   "cell_type": "code",
   "execution_count": null,
   "metadata": {},
   "outputs": [],
   "source": []
  }
 ],
 "metadata": {
  "interpreter": {
   "hash": "5e62c483ecf48ad4e1bb5f903abeb626d4ffc56eab47e05d9eff835eeb907be7"
  },
  "kernelspec": {
   "display_name": "Python 3.9.7 ('base')",
   "language": "python",
   "name": "python3"
  },
  "language_info": {
   "codemirror_mode": {
    "name": "ipython",
    "version": 3
   },
   "file_extension": ".py",
   "mimetype": "text/x-python",
   "name": "python",
   "nbconvert_exporter": "python",
   "pygments_lexer": "ipython3",
   "version": "3.9.7"
  },
  "orig_nbformat": 4
 },
 "nbformat": 4,
 "nbformat_minor": 2
}
