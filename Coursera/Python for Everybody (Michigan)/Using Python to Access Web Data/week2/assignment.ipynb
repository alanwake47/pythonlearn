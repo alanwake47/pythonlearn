{
 "cells": [
  {
   "cell_type": "code",
   "execution_count": 18,
   "metadata": {},
   "outputs": [
    {
     "name": "stdout",
     "output_type": "stream",
     "text": [
      "/Users/amankrishna/Git/pythonlearn/Python for Everybody (Michigan)/Using Python to Access Web Data/week2/\n",
      "sum: 445833\n"
     ]
    }
   ],
   "source": [
    "import re\n",
    "import os\n",
    "#os.chdir(r'/Users/amankrishna/Git/pythonlearn/Python for Everybody (Michigan)/Python Data Structures/')\n",
    "path = os.path.expanduser(\"~/Git/pythonlearn/Python for Everybody (Michigan)/Using Python to Access Web Data/week2/\")\n",
    "print(path)\n",
    "fname = input(\"Enter file name: \")\n",
    "try:\n",
    "    fh = open(path+fname, 'r')  \n",
    "except:\n",
    "    print('enter a valid filename')\n",
    "    quit()\n",
    "\n",
    "sum = 0\n",
    "for line in fh:\n",
    "    line = line.rstrip()\n",
    "    nums = re.findall('[0-9]+', line)\n",
    "    if len(nums) > 0:\n",
    "        for num in nums:\n",
    "            sum = sum + int(num)\n",
    "\n",
    "print('sum:', sum)\n",
    "\n"
   ]
  }
 ],
 "metadata": {
  "interpreter": {
   "hash": "31f2aee4e71d21fbe5cf8b01ff0e069b9275f58929596ceb00d14d90e3e16cd6"
  },
  "kernelspec": {
   "display_name": "Python 3.8.9 64-bit",
   "language": "python",
   "name": "python3"
  },
  "language_info": {
   "codemirror_mode": {
    "name": "ipython",
    "version": 3
   },
   "file_extension": ".py",
   "mimetype": "text/x-python",
   "name": "python",
   "nbconvert_exporter": "python",
   "pygments_lexer": "ipython3",
   "version": "3.8.9"
  },
  "orig_nbformat": 4
 },
 "nbformat": 4,
 "nbformat_minor": 2
}
