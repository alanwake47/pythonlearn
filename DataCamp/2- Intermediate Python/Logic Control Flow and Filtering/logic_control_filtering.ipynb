{
 "cells": [
  {
   "cell_type": "markdown",
   "metadata": {},
   "source": [
    "## Equality\n",
    "To check if two Python values, or variables, are equal you can use **==.** To check for inequality, you need **!=.** As a refresher, have a look at the following examples that all result in **True**. Feel free to try them out in the IPython Shell.\n",
    "\n",
    "***2 == (1 + 1)*** <br>\n",
    "***\"intermediate\" != \"python\"*** <br>\n",
    "***True != False*** <br>\n",
    "***\"Python\" != \"python\"*** <br>\n",
    "\n",
    "When you write these comparisons in a script, you will need to wrap a **print()** function around them to see the output.\n",
    "\n",
    "### Instructions\n",
    "\n",
    "- In the editor on the right, write code to see if **True** equals **False**.\n",
    "- Write Python code to check if **-5 * 15** is not equal to **75**.\n",
    "- Ask Python whether the strings **\"pyscript\"** and **\"PyScript\"** are equal.\n",
    "- What happens if you compare booleans and integers? Write code to see if **True** and **1** are equal."
   ]
  },
  {
   "cell_type": "code",
   "execution_count": 1,
   "metadata": {},
   "outputs": [
    {
     "name": "stdout",
     "output_type": "stream",
     "text": [
      "False\n",
      "True\n",
      "False\n"
     ]
    },
    {
     "data": {
      "text/plain": [
       "True"
      ]
     },
     "execution_count": 1,
     "metadata": {},
     "output_type": "execute_result"
    }
   ],
   "source": [
    "# Comparison of booleans\n",
    "print(True==False)\n",
    "\n",
    "# Comparison of integers\n",
    "print(-5*15 != 75)\n",
    "\n",
    "# Comparison of strings\n",
    "print(\"pyscript\"==\"PyScript\")\n",
    "\n",
    "# Compare a boolean with an integer\n",
    "True == 1"
   ]
  },
  {
   "cell_type": "markdown",
   "metadata": {},
   "source": [
    "## Greater and less than\n",
    "In the video, Hugo also talked about the less than and greater than signs, **< **and **>** in Python. You can combine them with an equals sign: **<=** and **>=**. Pay attention: **<=** is valid syntax, but **=<** is not.\n",
    "\n",
    "All Python expressions in the following code chunk evaluate to **True**:\n",
    "\n",
    "**3 < 4** <br>\n",
    "***3 <= 4*** <br>\n",
    "***\"alpha\" <= \"beta\"*** <br>\n",
    "\n",
    "Remember that for string comparison, Python determines the relationship based on alphabetical order.\n",
    "\n",
    "### Instructions\n",
    "\n",
    "- Write Python expressions, wrapped in a **print()** function, to check whether:\n",
    "  - **x** is greater than or equal to **-10**. **x** has already been defined for you.\n",
    "  - **\"test\"** is less than or equal to **y**. **y** has already been defined for you.\n",
    "  - **True** is greater than **False**."
   ]
  },
  {
   "cell_type": "code",
   "execution_count": 2,
   "metadata": {},
   "outputs": [
    {
     "name": "stdout",
     "output_type": "stream",
     "text": [
      "False\n",
      "True\n",
      "True\n"
     ]
    }
   ],
   "source": [
    "# Comparison of integers\n",
    "x = -3 * 6\n",
    "print(x >= -10)\n",
    "\n",
    "# Comparison of strings\n",
    "y = \"test\"\n",
    "print(\"test\" <= y)\n",
    "\n",
    "# Comparison of booleans\n",
    "print(True > False)"
   ]
  },
  {
   "cell_type": "markdown",
   "metadata": {},
   "source": [
    "## Compare arrays\n",
    "Out of the box, you can also use comparison operators with NumPy arrays.\n",
    "\n",
    "Remember **areas**, the list of area measurements for different rooms in your house from Introduction to Python? This time there's two NumPy arrays: **my_house** and **your_house**. They both contain the areas for the kitchen, living room, bedroom and bathroom in the same order, so you can compare them.\n",
    "\n",
    "### Instructions\n",
    "\n",
    "Using comparison operators, generate boolean arrays that answer the following questions:\n",
    "\n",
    "- Which areas in **my_house** are greater than or equal to **18**?\n",
    "- You can also compare two NumPy arrays element-wise. Which areas in **my_house** are smaller than the ones in **your_house**?\n",
    "- Make sure to wrap both commands in a **print()** statement so that you can inspect the output!"
   ]
  },
  {
   "cell_type": "code",
   "execution_count": 6,
   "metadata": {},
   "outputs": [
    {
     "name": "stdout",
     "output_type": "stream",
     "text": [
      "False\n",
      "True\n",
      "True\n"
     ]
    }
   ],
   "source": [
    "# Define variables\n",
    "my_kitchen = 18.0\n",
    "your_kitchen = 14.0\n",
    "\n",
    "# my_kitchen bigger than 10 and smaller than 18?\n",
    "print(my_kitchen>10 and my_kitchen<18)\n",
    "\n",
    "# my_kitchen smaller than 14 or bigger than 17?\n",
    "print(my_kitchen<14 or my_kitchen>17)\n",
    "\n",
    "# Double my_kitchen smaller than triple your_kitchen?\n",
    "print(my_kitchen*2 < 3*your_kitchen)"
   ]
  },
  {
   "cell_type": "markdown",
   "metadata": {},
   "source": [
    "## and, or, not (2)\n",
    "To see if you completely understood the boolean operators, have a look at the following piece of Python code:\n",
    "\n",
    "***x = 8 <br>\n",
    "y = 9 <br>\n",
    "not(not(x < 3) and not(y > 14 or y > 10))*** <br>\n",
    "\n",
    "What will the result be if you execute these three commands in the IPython Shell?\n",
    "\n",
    "NB: Notice that not has a higher priority than and and or, it is executed first.\n",
    "\n",
    "### Instructions\n",
    "\n",
    "Possible Answers\n",
    "\n",
    "- [ ] True\n",
    "\n",
    "- [x] False\n",
    "\n",
    "- [ ] Running these commands will result in an error."
   ]
  },
  {
   "cell_type": "markdown",
   "metadata": {},
   "source": [
    "## Boolean operators with NumPy\n",
    "Before, the operational operators like **< and >=** worked with NumPy arrays out of the box. Unfortunately, this is not true for the boolean operators **and, or, and not**.\n",
    "\n",
    "To use these operators with NumPy, you will need **np.logical_and(), np.logical_or() and np.logical_not().** Here's an example on the **my_house** and **your_house** arrays from before to give you an idea:\n",
    "\n",
    "***np.logical_and(my_house > 13, your_house < 15)***\n",
    "\n",
    "### Instructions\n",
    "\n",
    "- Generate boolean arrays that answer the following questions:\n",
    "  - Which areas in **my_house** are greater than **18**.5 or smaller than **10**?\n",
    "  - Which areas are smaller than **11** in both **my_house** and **your_house**? Make sure to wrap both commands in **print()** statement, so that you can inspect the output."
   ]
  },
  {
   "cell_type": "code",
   "execution_count": 7,
   "metadata": {},
   "outputs": [
    {
     "name": "stdout",
     "output_type": "stream",
     "text": [
      "[False  True False  True]\n",
      "[False False False  True]\n"
     ]
    }
   ],
   "source": [
    "# Create arrays\n",
    "import numpy as np\n",
    "my_house = np.array([18.0, 20.0, 10.75, 9.50])\n",
    "your_house = np.array([14.0, 24.0, 14.25, 9.0])\n",
    "\n",
    "# my_house greater than 18.5 or smaller than 10\n",
    "print(np.logical_or(my_house>18.5 , my_house<10))\n",
    "\n",
    "# Both my_house and your_house smaller than 11\n",
    "print(np.logical_and(my_house<11, your_house<11))"
   ]
  },
  {
   "cell_type": "markdown",
   "metadata": {},
   "source": [
    "## Warmup\n",
    "To experiment with if and else a bit, have a look at this code sample:\n",
    "\n",
    "***area = 10.0 <br>\n",
    "if(area < 9) :<br>\n",
    "   &emsp; print(\"small\")<br>\n",
    "elif(area < 12) :<br>\n",
    "    &emsp;print(\"medium\")<br>\n",
    "else :<br>\n",
    "    &emsp;print(\"large\")***<br>\n",
    "\n",
    "What will the output be if you run this piece of code in the IPython Shell?\n",
    "\n",
    "\n",
    "### Instructions\n",
    "\n",
    "Possible Answers\n",
    "\n",
    "- [ ] small\n",
    "\n",
    "- [x] medium\n",
    "\n",
    "- [ ] large\n",
    "\n",
    "- [ ] The syntax is incorrect; this code will produce an error."
   ]
  },
  {
   "cell_type": "markdown",
   "metadata": {},
   "source": [
    "## if\n",
    "It's time to take a closer look around in your house.\n",
    "\n",
    "Two variables are defined in the sample code: **room**, a string that tells you which room of the house we're looking at, and **area**, the area of that room.\n",
    "\n",
    "### Instructions\n",
    "\n",
    "- Examine the **if** statement that prints out **\"Looking around in the kitchen.\"** if room equals **\"kit\"**.\n",
    "- Write another if statement that prints out **\"big place!\"** if area is greater than **15**."
   ]
  },
  {
   "cell_type": "code",
   "execution_count": 9,
   "metadata": {},
   "outputs": [
    {
     "name": "stdout",
     "output_type": "stream",
     "text": [
      "looking around in the kitchen.\n"
     ]
    }
   ],
   "source": [
    "# Define variables\n",
    "room = \"kit\"\n",
    "area = 14.0\n",
    "\n",
    "# if statement for room\n",
    "if room == \"kit\" :\n",
    "    print(\"looking around in the kitchen.\")\n",
    "\n",
    "# if statement for area\n",
    "if area > 15 :\n",
    "    print(\"big place!\")"
   ]
  },
  {
   "cell_type": "markdown",
   "metadata": {},
   "source": [
    "## Add else\n",
    "In the script, the **if** construct for **room** has been extended with an **else** statement so that \"looking around elsewhere.\" is printed if the condition **room == \"kit\"** evaluates to **False**.\n",
    "\n",
    "Can you do a similar thing to add more functionality to the **if** construct for **area**?\n",
    "\n",
    "### Instructions\n",
    "\n",
    "Add an **else** statement to the second control structure so that \"pretty small.\" is printed out if **area > 15** evaluates to **False**."
   ]
  },
  {
   "cell_type": "code",
   "execution_count": 8,
   "metadata": {},
   "outputs": [
    {
     "name": "stdout",
     "output_type": "stream",
     "text": [
      "looking around in the kitchen.\n",
      "pretty small.\n"
     ]
    }
   ],
   "source": [
    "# Define variables\n",
    "room = \"kit\"\n",
    "area = 14.0\n",
    "\n",
    "# if-else construct for room\n",
    "if room == \"kit\" :\n",
    "    print(\"looking around in the kitchen.\")\n",
    "else :\n",
    "    print(\"looking around elsewhere.\")\n",
    "\n",
    "# if-else construct for area\n",
    "if area > 15 :\n",
    "    print(\"big place!\")\n",
    "else :\n",
    "    print(\"pretty small.\")"
   ]
  },
  {
   "cell_type": "markdown",
   "metadata": {},
   "source": [
    "## Customize further: elif\n",
    "It's also possible to have a look around in the bedroom. The sample code contains an **elif** part that checks if **room** equals \"bed\". In that case, \"looking around in the bedroom.\" is printed out.\n",
    "\n",
    "It's up to you now! Make a similar addition to the second control structure to further customize the messages for different values of **area**.\n",
    "\n",
    "### Instructions\n",
    "\n",
    "- Add an **elif** to the second control structure such that \"medium size, nice!\" is printed out if **area** is greater than **10**."
   ]
  },
  {
   "cell_type": "code",
   "execution_count": 10,
   "metadata": {},
   "outputs": [
    {
     "name": "stdout",
     "output_type": "stream",
     "text": [
      "looking around in the bedroom.\n",
      "medium size, nice!\n"
     ]
    }
   ],
   "source": [
    "# Define variables\n",
    "room = \"bed\"\n",
    "area = 14.0\n",
    "\n",
    "# if-elif-else construct for room\n",
    "if room == \"kit\" :\n",
    "    print(\"looking around in the kitchen.\")\n",
    "elif room == \"bed\":\n",
    "    print(\"looking around in the bedroom.\")\n",
    "else :\n",
    "    print(\"looking around elsewhere.\")\n",
    "\n",
    "# if-elif-else construct for area\n",
    "if area > 15 :\n",
    "    print(\"big place!\")\n",
    "elif area > 10 :\n",
    "    print(\"medium size, nice!\")\n",
    "else :\n",
    "    print(\"pretty small.\")"
   ]
  },
  {
   "cell_type": "markdown",
   "metadata": {},
   "source": [
    "## Driving right (1)\n",
    "Remember that **cars** dataset, containing the cars per 1000 people (**cars_per_cap**) and whether people drive right (**drives_right**) for different countries (**country**)? The code that imports this data in CSV format into Python as a DataFrame is included in the script.\n",
    "\n",
    "In the video, you saw a step-by-step approach to filter observations from a DataFrame based on boolean arrays. Let's start simple and try to find all observations in **cars** where **drives_right** is **True**.\n",
    "\n",
    "**drives_right** is a boolean column, so you'll have to extract it as a Series and then use this boolean Series to select observations from **cars**.\n",
    "\n",
    "### Instructions\n",
    "\n",
    "- Extract the **drives_right** column as a Pandas Series and store it as **dr**.\n",
    "- Use **dr**, a boolean Series, to subset the **cars** DataFrame. Store the resulting selection in **sel**.\n",
    "- Print **sel**, and assert that **drives_right** is **True** for all observations."
   ]
  },
  {
   "cell_type": "code",
   "execution_count": 12,
   "metadata": {},
   "outputs": [
    {
     "name": "stdout",
     "output_type": "stream",
     "text": [
      "     cars_per_cap        country  drives_right\n",
      "US            809  United States          True\n",
      "RU            200         Russia          True\n",
      "MOR            70        Morocco          True\n",
      "EG             45          Egypt          True\n"
     ]
    }
   ],
   "source": [
    "\n",
    "# Import cars data\n",
    "import pandas as pd\n",
    "cars = pd.read_csv('../Dictionaries & Pandas/cars.csv', index_col = 0)\n",
    "\n",
    "# Extract drives_right column as Series: dr\n",
    "dr = cars['drives_right']\n",
    "\n",
    "# Use dr to subset cars: sel\n",
    "sel = cars[dr]\n",
    "\n",
    "# Print sel\n",
    "print(sel)"
   ]
  },
  {
   "cell_type": "markdown",
   "metadata": {},
   "source": [
    "## Driving right (2)\n",
    "The code in the previous example worked fine, but you actually unnecessarily created a new variable **dr**. You can achieve the same result without this intermediate variable. Put the code that computes **dr** straight into the square brackets that select observations from **cars**.\n",
    "\n",
    "### Instructions\n",
    "\n",
    "Convert the code to a one-liner that calculates the variable **sel** as before."
   ]
  },
  {
   "cell_type": "code",
   "execution_count": 14,
   "metadata": {},
   "outputs": [
    {
     "name": "stdout",
     "output_type": "stream",
     "text": [
      "     cars_per_cap        country  drives_right\n",
      "US            809  United States          True\n",
      "RU            200         Russia          True\n",
      "MOR            70        Morocco          True\n",
      "EG             45          Egypt          True\n"
     ]
    }
   ],
   "source": [
    "# Convert code to a one-liner\n",
    "sel = cars[cars['drives_right']]\n",
    "\n",
    "# Print sel\n",
    "print(sel)"
   ]
  },
  {
   "cell_type": "markdown",
   "metadata": {},
   "source": [
    "## Cars per capita (1)\n",
    "Let's stick to the **cars** data some more. This time you want to find out which countries have a high **cars** per capita figure. In other words, in which countries do many people have a car, or maybe multiple **cars**.\n",
    "\n",
    "Similar to the previous example, you'll want to build up a boolean Series, that you can then use to subset the **cars** DataFrame to select certain observations. If you want to do this in a one-liner, that's perfectly fine!\n",
    "\n",
    "### Instructions\n",
    "\n",
    "- Select the **cars_per_cap** column from **cars** as a Pandas Series and store it as **cpc**.\n",
    "- Use **cpc** in combination with a comparison operator and 500. You want to end up with a boolean Series that's True if the corresponding country has a **cars_per_cap** of more than 500 and False otherwise. Store this boolean Series as **many_cars**.\n",
    "- Use **many_cars** to subset **cars**, similar to what you did before. Store the result as **car_maniac**.\n",
    "- Print out **car_maniac** to see if you got it right."
   ]
  },
  {
   "cell_type": "code",
   "execution_count": 20,
   "metadata": {},
   "outputs": [
    {
     "name": "stdout",
     "output_type": "stream",
     "text": [
      "     cars_per_cap        country  drives_right\n",
      "US            809  United States          True\n",
      "AUS           731      Australia         False\n",
      "JAP           588          Japan         False\n"
     ]
    }
   ],
   "source": [
    "cpc = cars['cars_per_cap']\n",
    "\n",
    "many_cars = cpc > 500\n",
    "\n",
    "car_maniac = cars[many_cars]\n",
    "\n",
    "print(car_maniac)"
   ]
  },
  {
   "cell_type": "markdown",
   "metadata": {},
   "source": [
    "## Cars per capita (2)\n",
    "Remember about **np.logical_and(), np.logical_or() and np.logical_not()**, the NumPy variants of the **and, or and not** operators? You can also use them on Pandas Series to do more advanced filtering operations.\n",
    "\n",
    "Take this example that selects the observations that have a **cars_per_cap** between 10 and 80. Try out these lines of code step by step to see what's happening.\n",
    "\n",
    "***cpc = cars['cars_per_cap'] <br>\n",
    "between = np.logical_and(cpc > 10, cpc < 80)<br>\n",
    "medium = cars[between] <br>***\n",
    "\n",
    "### Instructions\n",
    "\n",
    "- Use the code sample provided to create a DataFrame **medium**, that includes all the observations of **cars** that have a **cars_per_cap** between **100** and **500**.\n",
    "- Print out **medium**."
   ]
  },
  {
   "cell_type": "code",
   "execution_count": 23,
   "metadata": {},
   "outputs": [
    {
     "name": "stdout",
     "output_type": "stream",
     "text": [
      "    cars_per_cap country  drives_right\n",
      "RU           200  Russia          True\n"
     ]
    }
   ],
   "source": [
    "medium = cars[np.logical_and(cars[\"cars_per_cap\"]>100, cars[\"cars_per_cap\"]<500)]\n",
    "\n",
    "print(medium)"
   ]
  },
  {
   "cell_type": "code",
   "execution_count": null,
   "metadata": {},
   "outputs": [],
   "source": []
  }
 ],
 "metadata": {
  "interpreter": {
   "hash": "1c49298971bf539fe56860cf72510440f9c691c8b4f7aa806b89e675cbf902fa"
  },
  "kernelspec": {
   "display_name": "Python 3.9.7 64-bit ('base': conda)",
   "language": "python",
   "name": "python3"
  },
  "language_info": {
   "codemirror_mode": {
    "name": "ipython",
    "version": 3
   },
   "file_extension": ".py",
   "mimetype": "text/x-python",
   "name": "python",
   "nbconvert_exporter": "python",
   "pygments_lexer": "ipython3",
   "version": "3.9.7"
  },
  "orig_nbformat": 4
 },
 "nbformat": 4,
 "nbformat_minor": 2
}
