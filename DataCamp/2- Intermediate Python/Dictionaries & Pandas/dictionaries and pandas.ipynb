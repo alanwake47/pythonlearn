{
 "cells": [
  {
   "cell_type": "markdown",
   "metadata": {},
   "source": [
    "## Motivation for dictionaries\n",
    "To see why dictionaries are useful, have a look at the two lists defined in the script. **countries** contains the names of some European countries. **capitals** lists the corresponding names of their capital.\n",
    "\n",
    "### Instructions\n",
    "\n",
    "- Use the **index()** method on **countries** to find the index of **'germany'**. Store this index as **ind_ger**.\n",
    "- Use **ind_ger** to access the capital of Germany from the capitals list. Print it out.\n",
    "\n"
   ]
  },
  {
   "cell_type": "code",
   "execution_count": 2,
   "metadata": {},
   "outputs": [
    {
     "name": "stdout",
     "output_type": "stream",
     "text": [
      "berlin\n"
     ]
    }
   ],
   "source": [
    "# Definition of countries and capital\n",
    "countries = ['spain', 'france', 'germany', 'norway']\n",
    "capitals = ['madrid', 'paris', 'berlin', 'oslo']\n",
    "\n",
    "ind_ger = countries.index('germany')\n",
    "print(capitals[ind_ger])"
   ]
  },
  {
   "cell_type": "markdown",
   "metadata": {},
   "source": [
    "## Create dictionary\n",
    "The **countries** and **capitals** lists are again available in the script. It's your job to convert this data to a dictionary where the country names are the keys and the capitals are the corresponding values. As a refresher, here is a recipe for creating a dictionary:\n",
    "\n",
    "**my_dict = { <br>\n",
    "   \"key1\":\"value1\", <br>\n",
    "   \"key2\":\"value2\", <br>\n",
    "} <br>**\n",
    "\n",
    "In this recipe, both the keys and the values are strings. This will also be the case for this exercise.\n",
    "\n",
    "### Instructions\n",
    "\n",
    "- With the strings in **countries** and **capitals**, create a dictionary called **europe** with 4 key:value pairs. Beware of capitalization! Make sure you use lowercase characters everywhere.\n",
    "- Print out **europe** to see if the result is what you expected."
   ]
  },
  {
   "cell_type": "code",
   "execution_count": 23,
   "metadata": {},
   "outputs": [
    {
     "name": "stdout",
     "output_type": "stream",
     "text": [
      "{'spain': 'madrid', 'france': 'paris', 'germany': 'berlin', 'norway': 'oslo'}\n",
      "{'countries': ['spain', 'france', 'germany', 'norway'], 'capitals': ['madrid', 'paris', 'berlin', 'oslo']}\n"
     ]
    }
   ],
   "source": [
    "europe = {}\n",
    "\n",
    "for i,j in zip(countries, capitals):\n",
    "    europe.update({i:j})\n",
    "\n",
    "print(europe)\n"
   ]
  },
  {
   "cell_type": "markdown",
   "metadata": {},
   "source": [
    "## Access dictionary\n",
    "If the keys of a dictionary are chosen wisely, accessing the values in a dictionary is easy and intuitive. For example, to get the capital for France from **europe** you can use:\n",
    "\n",
    "**europe['france']**\n",
    "\n",
    "Here, **'france'** is the key and **'paris'** the value is returned.\n",
    "\n",
    "### Instructions\n",
    "\n",
    "- Check out which keys are in **europe** by calling the **keys()** method on **europe**. Print out the result.\n",
    "- Print out the value that belongs to the key **'norway'**."
   ]
  },
  {
   "cell_type": "code",
   "execution_count": 15,
   "metadata": {},
   "outputs": [
    {
     "name": "stdout",
     "output_type": "stream",
     "text": [
      "dict_keys(['spain', 'france', 'germany', 'norway'])\n",
      "oslo\n"
     ]
    }
   ],
   "source": [
    "print(europe.keys())\n",
    "\n",
    "print(europe['norway'])"
   ]
  },
  {
   "cell_type": "markdown",
   "metadata": {},
   "source": [
    "## Dictionary Manipulation (1)\n",
    "If you know how to access a dictionary, you can also assign a new value to it. To add a new key-value pair to **europe** you can use something like this:\n",
    "\n",
    "**europe['iceland'] = 'reykjavik'**\n",
    "\n",
    "### Instructions\n",
    "\n",
    "- Add the key **'italy'** with the value **'rome'** to **europe**.\n",
    "- To assert that **'italy'** is now a key in **europe**, print out **'italy' in europe**.\n",
    "- Add another key:value pair to europe: **'poland'** is the key, **'warsaw'** is the corresponding value.\n",
    "- Print out **europe**."
   ]
  },
  {
   "cell_type": "code",
   "execution_count": 18,
   "metadata": {},
   "outputs": [
    {
     "name": "stdout",
     "output_type": "stream",
     "text": [
      "True\n",
      "{'spain': 'madrid', 'france': 'paris', 'germany': 'berlin', 'norway': 'oslo', 'italy': 'rome', 'poland': 'warsaw'}\n"
     ]
    }
   ],
   "source": [
    "europe['italy'] = 'rome'\n",
    "\n",
    "print('italy' in europe)\n",
    "\n",
    "europe['poland'] = 'warsaw'\n",
    "\n",
    "print(europe)"
   ]
  },
  {
   "cell_type": "markdown",
   "metadata": {},
   "source": [
    "## Dictionary Manipulation (2)\n",
    "Somebody thought it would be funny to mess with your accurately generated dictionary. An adapted version of the **europe** dictionary is available in the script.\n",
    "\n",
    "Can you clean up? Do not do this by adapting the definition of **europe**, but by adding Python commands to the script to update and remove key:value pairs.\n",
    "\n",
    "### Instructions\n",
    "\n",
    "- The capital of Germany is not **'bonn'**; it's **'berlin'**. Update its value.\n",
    "- Australia is not in Europe, Austria is! Remove the key **'australia'** from **europe**.\n",
    "- Print out **europe** to see if your cleaning work paid off."
   ]
  },
  {
   "cell_type": "code",
   "execution_count": 20,
   "metadata": {},
   "outputs": [
    {
     "name": "stdout",
     "output_type": "stream",
     "text": [
      "{'spain': 'madrid', 'france': 'paris', 'germany': 'bonn', 'norway': 'oslo', 'italy': 'rome', 'poland': 'warsaw', 'australia': 'vienna'}\n",
      "{'spain': 'madrid', 'france': 'paris', 'germany': 'berlin', 'norway': 'oslo', 'italy': 'rome', 'poland': 'warsaw'}\n"
     ]
    }
   ],
   "source": [
    "#fudgin up the dict\n",
    "europe['germany'] = 'bonn'\n",
    "europe['australia'] = 'vienna'\n",
    "print(europe)\n",
    "\n",
    "#correcting\n",
    "europe['germany'] = 'berlin'\n",
    "\n",
    "del(europe['australia'])\n",
    "\n",
    "print(europe)"
   ]
  },
  {
   "cell_type": "markdown",
   "metadata": {},
   "source": [
    "## Dictionariception\n",
    "Remember lists? They could contain anything, even other lists. Well, for dictionaries the same holds. Dictionaries can contain key:value pairs where the values are again dictionaries.\n",
    "\n",
    "As an example, have a look at the script where another version of **europe** - the dictionary you've been working with all along - is coded. The keys are still the country names, but the values are dictionaries that contain more information than just the capital.\n",
    "\n",
    "It's perfectly possible to chain square brackets to select elements. To fetch the population for Spain from **europe**, for example, you need:\n",
    "\n",
    "**europe['spain']['population']**\n",
    "\n",
    "### Instructions\n",
    "\n",
    "- Use chained square brackets to select and print out the capital of France.\n",
    "- Create a dictionary, named **data**, with the keys **'capital'** and **'population'**. Set them to **'rome'** and **59.83**, respectively.\n",
    "- Add a new key-value pair to **europe**; the key is **'italy'** and the value is **data**, the dictionary you just built."
   ]
  },
  {
   "cell_type": "code",
   "execution_count": 22,
   "metadata": {},
   "outputs": [
    {
     "name": "stdout",
     "output_type": "stream",
     "text": [
      "paris\n",
      "{'spain': {'capital': 'madrid', 'population': 46.77}, 'france': {'capital': 'paris', 'population': 66.03}, 'germany': {'capital': 'berlin', 'population': 80.62}, 'norway': {'capital': 'oslo', 'population': 5.084}, 'italy': {'capital': 'rome', 'population': 59.83}}\n"
     ]
    }
   ],
   "source": [
    "# Dictionary of dictionaries\n",
    "europe = { 'spain': { 'capital':'madrid', 'population':46.77 },\n",
    "           'france': { 'capital':'paris', 'population':66.03 },\n",
    "           'germany': { 'capital':'berlin', 'population':80.62 },\n",
    "           'norway': { 'capital':'oslo', 'population':5.084 } }\n",
    "\n",
    "print(europe['france']['capital'])\n",
    "\n",
    "data = {'capital':'rome', 'population':59.83}\n",
    "\n",
    "europe['italy'] = data\n",
    "\n",
    "print(europe)"
   ]
  },
  {
   "cell_type": "markdown",
   "metadata": {},
   "source": [
    "## Dictionary to DataFrame (1)\n",
    "Pandas is an open source library, providing high-performance, easy-to-use data structures and data analysis tools for Python. Sounds promising!\n",
    "\n",
    "The DataFrame is one of Pandas' most important data structures. It's basically a way to store tabular data where you can label the rows and the columns. One way to build a DataFrame is from a dictionary.\n",
    "\n",
    "In the exercises that follow you will be working with vehicle data from different countries. Each observation corresponds to a country and the columns give information about the number of vehicles per capita, whether people drive left or right, and so on.\n",
    "\n",
    "Three lists are defined in the script:\n",
    "\n",
    "- **names**, containing the country names for which data is available.\n",
    "- **dr**, a list with booleans that tells whether people drive left or right in the corresponding country.\n",
    "- **cpc**, the number of motor vehicles per 1000 people in the corresponding country.\n",
    "Each dictionary key is a column label and each value is a list which contains the column elements.\n",
    "\n",
    "### Instructions\n",
    "\n",
    "- Import **pandas** as **pd**.\n",
    "- Use the pre-defined lists to create a dictionary called **my_dict**. There should be three key value pairs:\n",
    "  - key **'country'** and value **names**.\n",
    "  - key **'drives_right'** and value **dr**.\n",
    "  - key **'cars_per_cap'** and value **cpc**.\n",
    "- Use **pd.DataFrame()** to turn your dict into a DataFrame called **cars**.\n",
    "- Print out **cars** and see how beautiful it is."
   ]
  },
  {
   "cell_type": "code",
   "execution_count": 25,
   "metadata": {},
   "outputs": [
    {
     "name": "stdout",
     "output_type": "stream",
     "text": [
      "         country  drives_right  cars_per_cap\n",
      "0  United States          True           809\n",
      "1      Australia         False           731\n",
      "2          Japan         False           588\n",
      "3          India         False            18\n",
      "4         Russia          True           200\n",
      "5        Morocco          True            70\n",
      "6          Egypt          True            45\n"
     ]
    }
   ],
   "source": [
    "# Pre-defined lists\n",
    "names = ['United States', 'Australia', 'Japan', 'India', 'Russia', 'Morocco', 'Egypt']\n",
    "dr =  [True, False, False, False, True, True, True]\n",
    "cpc = [809, 731, 588, 18, 200, 70, 45]\n",
    "\n",
    "# Import pandas as pd\n",
    "import pandas as pd\n",
    "\n",
    "# Create dictionary my_dict with three key:value pairs: my_dict\n",
    "my_dict = {'country':names,'drives_right':dr,'cars_per_cap':cpc}\n",
    "\n",
    "cars = pd.DataFrame(my_dict)\n",
    "print(cars)"
   ]
  },
  {
   "cell_type": "markdown",
   "metadata": {},
   "source": [
    "## Dictionary to DataFrame (2)\n",
    "The Python code that solves the previous exercise is included in the script. Have you noticed that the row labels (i.e. the labels for the different observations) were automatically set to integers from 0 up to 6?\n",
    "\n",
    "To solve this a list **row_labels** has been created. You can use it to specify the row labels of the **cars** DataFrame. You do this by setting the **index** attribute of **cars**, that you can access as **cars.index**.\n",
    "\n",
    "### Instructions\n",
    "\n",
    "- Hit Run Code to see that, indeed, the row labels are not correctly set.\n",
    "- Specify the row labels by setting **cars.index** equal to **row_labels**.\n",
    "- Print out **cars** again and check if the row labels are correct this time."
   ]
  },
  {
   "cell_type": "code",
   "execution_count": 26,
   "metadata": {},
   "outputs": [
    {
     "name": "stdout",
     "output_type": "stream",
     "text": [
      "           country  drives_right  cars_per_cap\n",
      "US   United States          True           809\n",
      "AUS      Australia         False           731\n",
      "JPN          Japan         False           588\n",
      "IN           India         False            18\n",
      "RU          Russia          True           200\n",
      "MOR        Morocco          True            70\n",
      "EG           Egypt          True            45\n"
     ]
    }
   ],
   "source": [
    "# Definition of row_labels\n",
    "row_labels = ['US', 'AUS', 'JPN', 'IN', 'RU', 'MOR', 'EG']\n",
    "\n",
    "cars.index = row_labels\n",
    "\n",
    "print(cars)"
   ]
  },
  {
   "cell_type": "markdown",
   "metadata": {},
   "source": [
    "## CSV to DataFrame (1)\n",
    "Putting data in a dictionary and then building a DataFrame works, but it's not very efficient. What if you're dealing with millions of observations? In those cases, the data is typically available as files with a regular structure. One of those file types is the CSV file, which is short for \"comma-separated values\".\n",
    "\n",
    "To import CSV data into Python as a Pandas DataFrame you can use **read_csv()**.\n",
    "\n",
    "Let's explore this function with the same cars data from the previous exercises. This time, however, the data is available in a CSV file, named **cars.csv**. It is available in your current working directory, so the path to the file is simply **'cars.csv'**.\n",
    "\n",
    "### Instructions\n",
    "\n",
    "- To import CSV files you still need the **pandas** package: import it as **pd**.\n",
    "- Use **pd.read_csv()** to import cars.csv data as a DataFrame. Store this DataFrame as **cars**.\n",
    "- Print out **cars**. Does everything look OK?"
   ]
  },
  {
   "cell_type": "code",
   "execution_count": 27,
   "metadata": {},
   "outputs": [
    {
     "name": "stdout",
     "output_type": "stream",
     "text": [
      "  Unnamed: 0  cars_per_cap        country  drives_right\n",
      "0         US           809  United States          True\n",
      "1        AUS           731      Australia         False\n",
      "2        JAP           588          Japan         False\n",
      "3         IN            18          India         False\n",
      "4         RU           200         Russia          True\n",
      "5        MOR            70        Morocco          True\n",
      "6         EG            45          Egypt          True\n"
     ]
    }
   ],
   "source": [
    "cars = pd.read_csv('cars.csv')\n",
    "print(cars)"
   ]
  },
  {
   "cell_type": "markdown",
   "metadata": {},
   "source": [
    "## CSV to DataFrame (2)\n",
    "Your **read_csv()** call to import the CSV data didn't generate an error, but the output is not entirely what we wanted. The row labels were imported as another column without a name.\n",
    "\n",
    "Remember **index_col**, an argument of **read_csv()**, that you can use to specify which column in the CSV file should be used as a row label? Well, that's exactly what you need here!\n",
    "\n",
    "Python code that solves the previous exercise is already included; can you make the appropriate changes to fix the data import?\n",
    "\n",
    "### Instructions\n",
    "\n",
    "- Run the code with *Run Code *and assert that the first column should actually be used as row labels.\n",
    "- Specify the **index_col** argument inside **pd.read_csv()**: set it to **0**, so that the first column is used as row labels.\n",
    "- Has the printout of **cars** improved now?"
   ]
  },
  {
   "cell_type": "code",
   "execution_count": 28,
   "metadata": {},
   "outputs": [
    {
     "name": "stdout",
     "output_type": "stream",
     "text": [
      "     cars_per_cap        country  drives_right\n",
      "US            809  United States          True\n",
      "AUS           731      Australia         False\n",
      "JAP           588          Japan         False\n",
      "IN             18          India         False\n",
      "RU            200         Russia          True\n",
      "MOR            70        Morocco          True\n",
      "EG             45          Egypt          True\n"
     ]
    }
   ],
   "source": [
    "cars = pd.read_csv('cars.csv', index_col=0)\n",
    "print(cars)"
   ]
  },
  {
   "cell_type": "code",
   "execution_count": null,
   "metadata": {},
   "outputs": [],
   "source": []
  }
 ],
 "metadata": {
  "interpreter": {
   "hash": "1c49298971bf539fe56860cf72510440f9c691c8b4f7aa806b89e675cbf902fa"
  },
  "kernelspec": {
   "display_name": "Python 3.9.7 64-bit ('base': conda)",
   "language": "python",
   "name": "python3"
  },
  "language_info": {
   "codemirror_mode": {
    "name": "ipython",
    "version": 3
   },
   "file_extension": ".py",
   "mimetype": "text/x-python",
   "name": "python",
   "nbconvert_exporter": "python",
   "pygments_lexer": "ipython3",
   "version": "3.9.7"
  },
  "orig_nbformat": 4
 },
 "nbformat": 4,
 "nbformat_minor": 2
}
