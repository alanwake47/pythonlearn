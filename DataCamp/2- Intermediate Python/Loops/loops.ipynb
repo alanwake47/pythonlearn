{
 "cells": [
  {
   "cell_type": "markdown",
   "metadata": {},
   "source": [
    "## while: warming up\n",
    "The while loop is like a repeated if statement. The code is executed over and over again, as long as the condition is True. Have another look at its recipe.\n",
    "\n",
    "***while condition :*** <br>\n",
    "    &emsp;***expression*** <br> \n",
    "\n",
    "Can you tell how many printouts the following while loop will do?\n",
    "\n",
    "***x = 1<br>\n",
    "while x < 4 :<br>\n",
    "    &emsp;print(x)<br>\n",
    "   &emsp;x = x + 1***<br>\n",
    "\n",
    "\n",
    "### Instructions\n",
    "\n",
    "Possible Answers\n",
    "\n",
    "- [ ] 0\n",
    "\n",
    "- [ ] 1\n",
    "\n",
    "- [ ] 2\n",
    "\n",
    "- [x] 3\n",
    "\n",
    "- [ ] 4"
   ]
  },
  {
   "cell_type": "markdown",
   "metadata": {},
   "source": [
    "## Basic while loop\n",
    "Below you can find the example from the video where the **error** variable, initially equal to **50.0**, is divided by 4 and printed out on every run:\n",
    "\n",
    "***error = 50.0 <br>\n",
    "while error > 1 : <br>\n",
    "    &emsp;error = error / 4 <br>\n",
    "    &emsp;print(error)*** <br>\n",
    "\n",
    "This example will come in handy, because it's time to build a **while** loop yourself! We're going to code a **while** loop that implements a very basic control system for an **inverted pendulum**. If there's an offset from standing perfectly straight, the **while** loop will incrementally fix this offset.\n",
    "\n",
    "Note that if your **while** loop takes too long to run, you might have made a mistake. In particular, remember to **indent** the contents of the loop!\n",
    "\n",
    "### Instructions\n",
    "\n",
    "- Create the variable **offset** with an initial value of **8**.\n",
    "- Code a **while** loop that keeps running as long as **offset** is not equal to **0**. Inside the **while** loop:\n",
    "  - Print out the sentence **\"correcting...\"**.\n",
    "  - Next, decrease the value of **offset** by 1. You can do this with **offset = offset - 1**.\n",
    "  - Finally, still within your loop, print out **offset** so you can see how it changes."
   ]
  },
  {
   "cell_type": "code",
   "execution_count": 1,
   "metadata": {},
   "outputs": [
    {
     "name": "stdout",
     "output_type": "stream",
     "text": [
      "correcting...\n",
      "7\n",
      "correcting...\n",
      "6\n",
      "correcting...\n",
      "5\n",
      "correcting...\n",
      "4\n",
      "correcting...\n",
      "3\n",
      "correcting...\n",
      "2\n",
      "correcting...\n",
      "1\n",
      "correcting...\n",
      "0\n"
     ]
    }
   ],
   "source": [
    "offset = 8\n",
    "\n",
    "while offset !=0:\n",
    "    print(\"correcting...\")\n",
    "    offset -= 1\n",
    "    print(offset)"
   ]
  },
  {
   "cell_type": "markdown",
   "metadata": {},
   "source": [
    "## Add conditionals\n",
    "The **while** loop that corrects the **offset** is a good start, but what if **offset** is negative? You can try to run the following code where **offset** is initialized to **-6**:\n",
    "\n",
    "*Initialize offset* <br>\n",
    "***offset = -6***<br>\n",
    "\n",
    "*Code the while loop*<br>\n",
    "***while offset != 0 :<br>\n",
    "    &emsp;print(\"correcting...\")<br>\n",
    "    &emsp;offset = offset - 1<br>\n",
    "    &emsp;print(offset)***<br>\n",
    "\n",
    "but your session will be disconnected. The **while** loop will never stop running, because **offset** will be further decreased on every run. **offset != 0** will never become **False** and the **while** loop continues forever.\n",
    "\n",
    "Fix things by putting an **if-else** statement inside the **while** loop. If your code is still taking too long to run, you probably made a mistake!\n",
    "\n",
    "### Instructions\n",
    "\n",
    "- Inside the **while** loop, complete the **if-else** statement:\n",
    "  - If **offset** is greater than zero, you should decrease **offset** by 1.\n",
    "  - Else, you should increase **offset** by 1.\n",
    "- If you've coded things correctly, hitting Submit Answer should work this time.\n",
    "*If your code is still taking too long to run (or your session is expiring), you probably made a mistake. Check your code and make sure that the statement **offset != 0** will eventually evaluate to **FALSE**!*"
   ]
  },
  {
   "cell_type": "code",
   "execution_count": 2,
   "metadata": {},
   "outputs": [
    {
     "name": "stdout",
     "output_type": "stream",
     "text": [
      "correcting...\n",
      "-5\n",
      "correcting...\n",
      "-4\n",
      "correcting...\n",
      "-3\n",
      "correcting...\n",
      "-2\n",
      "correcting...\n",
      "-1\n",
      "correcting...\n",
      "0\n"
     ]
    }
   ],
   "source": [
    "offset = -6\n",
    "\n",
    "while offset !=0:\n",
    "    print(\"correcting...\")\n",
    "    if offset > 1:\n",
    "        offset -= 1\n",
    "    else:\n",
    "        offset += 1\n",
    "    print(offset)"
   ]
  },
  {
   "cell_type": "markdown",
   "metadata": {},
   "source": [
    "## Loop over a list\n",
    "Have another look at the **for** loop that Hugo showed in the video:\n",
    "\n",
    "***fam = [1.73, 1.68, 1.71, 1.89] <br>\n",
    "for height in fam : <br>\n",
    "    &emsp;print(height)***<br>\n",
    "\n",
    "As usual, you simply have to indent the code with 4 spaces to tell Python which code should be executed in the **for** loop.\n",
    "\n",
    "The **areas** variable, containing the area of different rooms in your house, is already defined.\n",
    "\n",
    "### Instructions\n",
    "\n",
    "- Write a **for** loop that iterates over all elements of the **areas** list and prints out every element separately."
   ]
  },
  {
   "cell_type": "code",
   "execution_count": 3,
   "metadata": {},
   "outputs": [
    {
     "name": "stdout",
     "output_type": "stream",
     "text": [
      "11.25\n",
      "18.0\n",
      "20.0\n",
      "10.75\n",
      "9.5\n"
     ]
    }
   ],
   "source": [
    "# areas list\n",
    "areas = [11.25, 18.0, 20.0, 10.75, 9.50]\n",
    "\n",
    "# Code the for loop\n",
    "for i in areas :\n",
    "    print(i)"
   ]
  },
  {
   "cell_type": "markdown",
   "metadata": {},
   "source": [
    "## Indexes and values (1)\n",
    "Using a **for** loop to iterate over a list only gives you access to every list element in each run, one after the other. If you also want to access the index information, so where the list element you're iterating over is located, you can use **enumerate()**.\n",
    "\n",
    "As an example, have a look at how the **for** loop from the video was converted:\n",
    "\n",
    "***fam = [1.73, 1.68, 1.71, 1.89] <br>\n",
    "for index, height in enumerate(fam) :<br>\n",
    "    &emsp;print(\"person \" + str(index) + \": \" + str(height))***<br>\n",
    "\n",
    "### Instructions\n",
    "\n",
    "- Adapt the **for** loop in the sample code to use **enumerate()** and use two iterator variables.\n",
    "- Update the **print()** statement so that on each run, a line of the form **\"room x: y\"** should be printed, where x is the index of the list element and y is the actual list element, i.e. the area. Make sure to print out this exact string, with the correct spacing."
   ]
  },
  {
   "cell_type": "code",
   "execution_count": 6,
   "metadata": {},
   "outputs": [
    {
     "name": "stdout",
     "output_type": "stream",
     "text": [
      "room  0 :  11.25\n",
      "room  1 :  18.0\n",
      "room  2 :  20.0\n",
      "room  3 :  10.75\n",
      "room  4 :  9.5\n"
     ]
    }
   ],
   "source": [
    "# areas list\n",
    "areas = [11.25, 18.0, 20.0, 10.75, 9.50]\n",
    "\n",
    "# Change for loop to use enumerate() and update print()\n",
    "for i, a in enumerate(areas) :\n",
    "    print(\"room \",str(i),\": \",str(a))"
   ]
  },
  {
   "cell_type": "markdown",
   "metadata": {},
   "source": [
    "## Indexes and values (2)\n",
    "For non-programmer folks, **room 0: 11.25** is strange. Wouldn't it be better if the count started at 1?\n",
    "\n",
    "### Instructions\n",
    "\n",
    "Adapt the **print()** function in the for loop so that the first printout becomes **\"room 1: 11.25\"**, the second one **\"room 2: 18.0\"** and so on."
   ]
  },
  {
   "cell_type": "code",
   "execution_count": 7,
   "metadata": {},
   "outputs": [
    {
     "name": "stdout",
     "output_type": "stream",
     "text": [
      "room  1 :  11.25\n",
      "room  2 :  18.0\n",
      "room  3 :  20.0\n",
      "room  4 :  10.75\n",
      "room  5 :  9.5\n"
     ]
    }
   ],
   "source": [
    "# areas list\n",
    "areas = [11.25, 18.0, 20.0, 10.75, 9.50]\n",
    "\n",
    "# Change for loop to use enumerate() and update print()\n",
    "for i, a in enumerate(areas) :\n",
    "    print(\"room \",str(i+1),\": \",str(a))"
   ]
  },
  {
   "cell_type": "markdown",
   "metadata": {},
   "source": [
    "## Loop over list of lists\n",
    "Remember the **house** variable from the Intro to Python course? Have a look at its definition in the script. It's basically a list of lists, where each sublist contains the name and area of a room in your house.\n",
    "\n",
    "It's up to you to build a **for** loop from scratch this time!\n",
    "\n",
    "### Instructions\n",
    "\n",
    "- Write a **for** loop that goes through each sublist of **house** and prints out **the x is y sqm**, where x is the name of the room and y is the area of the room."
   ]
  },
  {
   "cell_type": "code",
   "execution_count": 10,
   "metadata": {},
   "outputs": [
    {
     "name": "stdout",
     "output_type": "stream",
     "text": [
      "the hallway is 11.25 sqm\n",
      "the kitchen is 18.0 sqm\n",
      "the living room is 20.0 sqm\n",
      "the bedroom is 10.75 sqm\n",
      "the bathroom is 9.5 sqm\n"
     ]
    }
   ],
   "source": [
    "# house list of lists\n",
    "house = [[\"hallway\", 11.25], \n",
    "         [\"kitchen\", 18.0], \n",
    "         [\"living room\", 20.0], \n",
    "         [\"bedroom\", 10.75], \n",
    "         [\"bathroom\", 9.50]]\n",
    "         \n",
    "# Build a for loop from scratch\n",
    "for i in house:\n",
    "    print('the '+str(i[0])+' is '+str(i[1])+' sqm')"
   ]
  },
  {
   "cell_type": "markdown",
   "metadata": {},
   "source": [
    "## Loop over dictionary\n",
    "In Python 3, you need the **items()** method to loop over a dictionary:\n",
    "\n",
    "***world = { \"afghanistan\":30.55,<br>\n",
    "         &emsp; \"albania\":2.77,<br>\n",
    "         &emsp; \"algeria\":39.21 }***<br>\n",
    "\n",
    "***for key, value in world.items() :<br>\n",
    "    &emsp;print(key + \" -- \" + str(value))***<br>\n",
    "    \n",
    "Remember the **europe** dictionary that contained the names of some European countries as key and their capitals as corresponding value? Go ahead and write a loop to iterate over it!\n",
    "\n",
    "### Instructions\n",
    "\n",
    "Write a **for** loop that goes through each key:value pair of **europe**. On each iteration, **\"the capital of x is y\"** should be printed out, where x is the key and y is the value of the pair."
   ]
  },
  {
   "cell_type": "code",
   "execution_count": 1,
   "metadata": {},
   "outputs": [
    {
     "name": "stdout",
     "output_type": "stream",
     "text": [
      "the capital of spain is madrid\n",
      "the capital of france is paris\n",
      "the capital of germany is berlin\n",
      "the capital of norway is oslo\n",
      "the capital of italy is rome\n",
      "the capital of poland is warsaw\n",
      "the capital of austria is vienna\n"
     ]
    }
   ],
   "source": [
    "# Definition of dictionary\n",
    "europe = {'spain':'madrid', 'france':'paris', 'germany':'berlin',\n",
    "          'norway':'oslo', 'italy':'rome', 'poland':'warsaw', 'austria':'vienna' }\n",
    "          \n",
    "# Iterate over europe\n",
    "for k,v in europe.items():\n",
    "    print(\"the capital of\",str(k),\"is\",str(v))"
   ]
  },
  {
   "cell_type": "markdown",
   "metadata": {},
   "source": [
    "## Loop over NumPy array\n",
    "If you're dealing with a 1D NumPy array, looping over all elements can be as simple as:\n",
    "\n",
    "***for x in my_array :<br>\n",
    "    &emsp;...***<br>\n",
    "\n",
    "If you're dealing with a 2D NumPy array, it's more complicated. A 2D array is built up of multiple 1D arrays. To explicitly iterate over all separate elements of a multi-dimensional array, you'll need this syntax:\n",
    "\n",
    "***for x in np.nditer(my_array) :<br>\n",
    "    &emsp;...***<br>\n",
    "\n",
    "Two NumPy arrays that you might recognize from the intro course are available in your Python session: **np_height**, a NumPy array containing the heights of Major League Baseball players, and **np_baseball**, a 2D NumPy array that contains both the heights (first column) and weights (second column) of those players.\n",
    "\n",
    "### Instructions\n",
    "\n",
    "- Import the **numpy** package under the local alias **np**.\n",
    "- Write a **for** loop that iterates over all elements in **np_height** and prints out **\"x inches\"** for each element, where x is the value in the array.\n",
    "- Write a **for** loop that visits every element of the **np_baseball** array and prints it out."
   ]
  },
  {
   "cell_type": "code",
   "execution_count": null,
   "metadata": {},
   "outputs": [],
   "source": [
    "import numpy as np\n",
    "\n",
    "np_height = np.array([74,74,\t72,\t72,\t73,\t69,\t69,\t71,\t76,\t71,\t73,\t73,\t74,\t74,\t69,\t70,\t73,\t75,\t78,\t79,\t76,\t74,\t76,\t72,\t71,\t75,\t77,\t74,\t73,\t74,\t78,\t73,\t75,\t73,\t75,\t75,\t74,\t69,\t71,\t74,\t73,\t73,\t76,\t74,\t74,\t70,\t72,\t77,\t74,\t70,\t73,\t75,\t76,\t76,\t78,\t74,\t74,\t76,\t77,\t81,\t78,\t75,\t77,\t75,\t76,\t74,\t72,\t72,\t75,\t73,\t73,\t73,\t70,\t70,\t70,\t76,\t68,\t71,\t72,\t75,\t75,\t75,\t75,\t68,\t74,\t78,\t71,\t73,\t76,\t74,\t74,\t79,\t75,\t73,\t76,\t74,\t74,\t73,\t72,\t74,\t73,\t74,\t72,\t73,\t69,\t72,\t73,\t75,\t75,\t73,\t72,\t72,\t76,\t74,\t72,\t77,\t74,\t77,\t75,\t76,\t80,\t74,\t74,\t75,\t78,\t73,\t73,\t74,\t75,\t76,\t71,\t73,\t74,\t76,\t76,\t74,\t73,\t74,\t70,\t72,\t73,\t73,\t73,\t73,\t71,\t74,\t74,\t72,\t74,\t71,\t74,\t73,\t75,\t75,\t79,\t73,\t75,\t76,\t74,\t76,\t78,\t74,\t76,\t72,\t74,\t76,\t74,\t75,\t78,\t75,\t72,\t74,\t72,\t74,\t70,\t71,\t70,\t75,\t71,\t71,\t73,\t72,\t71,\t73,\t72,\t75,\t74,\t74,\t75,\t73,\t77,\t73,\t76,\t75,\t74,\t76,\t75,\t73,\t71,\t76,\t75,\t72,\t71,\t77,\t73,\t74,\t71,\t72,\t74,\t75,\t73,\t72,\t75,\t75,\t74,\t72,\t74,\t71,\t70,\t74,\t77,\t77,\t75,\t75,\t78,\t75,\t76,\t73,\t75,\t75,\t79,\t77,\t76,\t71,\t75,\t74,\t69,\t71,\t76,\t72,\t72,\t70,\t72,\t73,\t71,\t72,\t71,\t73,\t72,\t73,\t74,\t74,\t72,\t75,\t74,\t74,\t77,\t75,\t73,\t72,\t71,\t74,\t77,\t75,\t75,\t75,\t78,\t78,\t74,\t76,\t78,\t76,\t70,\t72,\t80,\t74,\t74,\t71,\t70,\t72,\t71,\t74,\t71,\t72,\t71,\t74,\t69,\t76,\t75,\t75,\t76,\t73,\t76,\t73,\t77,\t73,\t72,\t72,\t77,\t77,\t71,\t74,\t74,\t73,\t78,\t75,\t73,\t70,\t74,\t72,\t73,\t73,\t75,\t75,\t74,\t76,\t73,\t74,\t75,\t75,\t72,\t73,\t73,\t72,\t74,\t78,\t76,\t73,\t74,\t75,\t70,\t75,\t71,\t72,\t78,\t75,\t73,\t73,\t71,\t75,\t77,\t72,\t69,\t73,\t74,\t72,\t70,\t75,\t70,\t72,\t72,\t74,\t73,\t74,\t76,\t75,\t80,\t72,\t75,\t73,\t74,\t74,\t73,\t75,\t75,\t71,\t73,\t75,\t74,\t74,\t72,\t74,\t74,\t74,\t73,\t76,\t75,\t72,\t73,\t73,\t73,\t72,\t72,\t72,\t72,\t71,\t75,\t75,\t74,\t73,\t75,\t79,\t74,\t76,\t73,\t74,\t74,\t72,\t74,\t74,\t75,\t78,\t74,\t74,\t74,\t77,\t70,\t73,\t74,\t73,\t71,\t75,\t71,\t72,\t77,\t74,\t70,\t77,\t73,\t72,\t76,\t71,\t76,\t78,\t75,\t73,\t78,\t74,\t79,\t75,\t76,\t72,\t75,\t75,\t70,\t72,\t70,\t74,\t71,\t76,\t73,\t76,\t71,\t69,\t72,\t72,\t69,\t73,\t69,\t73,\t74,\t74,\t72,\t71,\t72,\t72,\t76,\t76,\t76,\t74,\t76,\t75,\t71,\t72,\t71,\t73,\t75,\t76,\t75,\t71,\t75,\t74,\t72,\t73,\t73,\t73,\t73,\t76,\t72,\t76,\t73,\t73,\t73,\t75,\t75,\t77,\t73,\t72,\t75,\t70,\t74,\t72,\t80,\t71,\t71,\t74,\t74,\t73,\t75,\t76,\t73,\t77,\t72,\t73,\t77,\t76,\t71,\t75,\t73,\t74,\t77,\t71,\t72,\t73,\t69,\t73,\t70,\t74,\t76,\t73,\t73,\t75,\t73,\t79,\t74,\t73,\t74,\t77,\t75,\t74,\t73,\t77,\t73,\t77,\t74,\t74,\t73,\t77,\t74,\t77,\t75,\t77,\t75,\t71,\t74,\t70,\t79,\t72,\t72,\t70,\t74,\t74,\t72,\t73,\t72,\t74,\t74,\t76,\t82,\t74,\t74,\t70,\t73,\t73,\t74,\t77,\t72,\t76,\t73,\t73,\t72,\t74,\t74,\t71,\t72,\t75,\t74,\t74,\t77,\t70,\t71,\t73,\t76,\t71,\t75,\t74,\t72,\t76,\t79,\t76,\t73,\t76,\t78,\t75,\t76,\t72,\t72,\t73,\t73,\t75,\t71,\t76,\t70,\t75,\t74,\t75,\t73,\t71,\t71,\t72,\t73,\t73,\t72,\t69,\t73,\t78,\t71,\t73,\t75,\t76,\t70,\t74,\t77,\t75,\t79,\t72,\t77,\t73,\t75,\t75,\t75,\t73,\t73,\t76,\t77,\t75,\t70,\t71,\t71,\t75,\t74,\t69,\t70,\t75,\t72,\t75,\t73,\t72,\t72,\t72,\t76,\t75,\t74,\t69,\t73,\t72,\t72,\t75,\t77,\t76,\t80,\t77,\t76,\t79,\t71,\t75,\t73,\t76,\t77,\t73,\t76,\t70,\t75,\t73,\t75,\t70,\t69,\t71,\t72,\t72,\t73,\t70,\t70,\t73,\t76,\t75,\t72,\t73,\t79,\t71,\t72,\t74,\t74,\t74,\t72,\t76,\t76,\t72,\t72,\t71,\t72,\t72,\t70,\t77,\t74,\t72,\t76,\t71,\t76,\t71,\t73,\t70,\t73,\t73,\t72,\t71,\t71,\t71,\t72,\t72,\t74,\t74,\t74,\t71,\t72,\t75,\t72,\t71,\t72,\t72,\t72,\t72,\t74,\t74,\t77,\t75,\t73,\t75,\t73,\t76,\t72,\t77,\t75,\t72,\t71,\t71,\t75,\t72,\t73,\t73,\t71,\t70,\t75,\t71,\t76,\t73,\t68,\t71,\t72,\t74,\t77,\t72,\t76,\t78,\t81,\t72,\t73,\t76,\t72,\t72,\t74,\t76,\t73,\t76,\t75,\t70,\t71,\t74,\t72,\t73,\t76,\t76,\t73,\t71,\t68,\t71,\t71,\t74,\t77,\t69,\t72,\t76,\t75,\t76,\t75,\t76,\t72,\t74,\t76,\t74,\t72,\t75,\t78,\t77,\t70,\t72,\t79,\t74,\t71,\t68,\t77,\t75,\t71,\t72,\t70,\t72,\t72,\t73,\t72,\t74,\t72,\t72,\t75,\t72,\t73,\t74,\t72,\t78,\t75,\t72,\t74,\t75,\t75,\t76,\t74,\t74,\t73,\t74,\t71,\t74,\t75,\t76,\t74,\t76,\t76,\t73,\t75,\t75,\t74,\t68,\t72,\t75,\t71,\t70,\t72,\t73,\t72,\t75,\t74,\t70,\t76,\t71,\t82,\t72,\t73,\t74,\t71,\t75,\t77,\t72,\t74,\t72,\t73,\t78,\t77,\t73,\t73,\t73,\t73,\t73,\t76,\t75,\t70,\t73,\t72,\t73,\t75,\t74,\t73,\t73,\t76,\t73,\t75,\t70,\t77,\t72,\t77,\t74,\t75,\t75,\t75,\t75,\t72,\t74,\t71,\t76,\t71,\t75,\t76,\t83,\t75,\t74,\t76,\t72,\t72,\t75,\t75,\t72,\t77,\t73,\t72,\t70,\t74,\t72,\t74,\t72,\t71,\t70,\t71,\t76,\t74,\t76,\t74,\t74,\t74,\t75,\t75,\t71,\t71,\t74,\t77,\t71,\t74,\t75,\t77,\t76,\t74,\t76,\t72,\t71,\t72,\t75,\t73,\t68,\t72,\t69,\t73,\t73,\t75,\t70,\t70,\t74,\t75,\t74,\t74,\t73,\t74,\t75,\t77,\t73,\t74,\t76,\t74,\t75,\t73,\t76,\t78,\t75,\t73,\t77,\t74,\t72,\t74,\t72,\t71,\t73,\t75,\t73,\t67,\t67,\t76,\t74,\t73,\t70,\t75,\t70,\t72,\t77,\t79,\t78,\t74,\t75,\t75,\t78,\t76,\t75,\t69,\t75,\t72,\t75,\t73,\t74,\t75,\t75,\t73])\n",
    "\n",
    "np_baseball = np.empty((1015,2))\n",
    "\n",
    "np_baseball[:,0] = np_height\n",
    "\n",
    "np_baseball[:,1] = [180,\t215,\t210,\t210,\t188,\t176,\t209,\t200,\t231,\t180,\t188,\t180,\t185,\t160,\t180,\t185,\t189,\t185,\t219,\t230,\t205,\t230,\t195,\t180,\t192,\t225,\t203,\t195,\t182,\t188,\t200,\t180,\t200,\t200,\t245,\t240,\t215,\t185,\t175,\t199,\t200,\t215,\t200,\t205,\t206,\t186,\t188,\t220,\t210,\t195,\t200,\t200,\t212,\t224,\t210,\t205,\t220,\t195,\t200,\t260,\t228,\t270,\t200,\t210,\t190,\t220,\t180,\t205,\t210,\t220,\t211,\t200,\t180,\t190,\t170,\t230,\t155,\t185,\t185,\t200,\t225,\t225,\t220,\t160,\t205,\t235,\t250,\t210,\t190,\t160,\t200,\t205,\t222,\t195,\t205,\t220,\t220,\t170,\t185,\t195,\t220,\t230,\t180,\t220,\t180,\t180,\t170,\t210,\t215,\t200,\t213,\t180,\t192,\t235,\t185,\t235,\t210,\t222,\t210,\t230,\t220,\t180,\t190,\t200,\t210,\t194,\t180,\t190,\t240,\t200,\t198,\t200,\t195,\t210,\t220,\t190,\t210,\t225,\t180,\t185,\t170,\t185,\t185,\t180,\t178,\t175,\t200,\t204,\t211,\t190,\t210,\t190,\t190,\t185,\t290,\t175,\t185,\t200,\t220,\t170,\t220,\t190,\t220,\t205,\t200,\t250,\t225,\t215,\t210,\t215,\t195,\t200,\t194,\t220,\t180,\t180,\t170,\t195,\t180,\t170,\t206,\t205,\t200,\t225,\t201,\t225,\t233,\t180,\t225,\t180,\t220,\t180,\t237,\t215,\t190,\t235,\t190,\t180,\t165,\t195,\t200,\t190,\t190,\t185,\t185,\t205,\t190,\t205,\t206,\t220,\t208,\t170,\t195,\t210,\t190,\t211,\t230,\t170,\t185,\t185,\t241,\t225,\t210,\t175,\t230,\t200,\t215,\t198,\t226,\t278,\t215,\t230,\t240,\t184,\t219,\t170,\t218,\t190,\t225,\t220,\t176,\t190,\t197,\t204,\t167,\t180,\t195,\t220,\t215,\t185,\t190,\t205,\t205,\t200,\t210,\t215,\t200,\t205,\t211,\t190,\t208,\t200,\t210,\t232,\t230,\t210,\t220,\t210,\t202,\t212,\t225,\t170,\t190,\t200,\t237,\t220,\t170,\t193,\t190,\t150,\t220,\t200,\t190,\t185,\t185,\t200,\t172,\t220,\t225,\t190,\t195,\t219,\t190,\t197,\t200,\t195,\t210,\t177,\t220,\t235,\t180,\t195,\t195,\t190,\t230,\t190,\t200,\t190,\t190,\t200,\t200,\t184,\t200,\t180,\t219,\t187,\t200,\t220,\t205,\t190,\t170,\t160,\t215,\t175,\t205,\t200,\t214,\t200,\t190,\t180,\t205,\t220,\t190,\t215,\t235,\t191,\t200,\t181,\t200,\t210,\t240,\t185,\t165,\t190,\t185,\t175,\t155,\t210,\t170,\t175,\t220,\t210,\t205,\t200,\t205,\t195,\t240,\t150,\t200,\t215,\t202,\t200,\t190,\t205,\t190,\t160,\t215,\t185,\t200,\t190,\t210,\t185,\t220,\t190,\t202,\t205,\t220,\t175,\t160,\t190,\t200,\t229,\t206,\t220,\t180,\t195,\t175,\t188,\t230,\t190,\t200,\t190,\t219,\t235,\t180,\t180,\t180,\t200,\t234,\t185,\t220,\t223,\t200,\t210,\t200,\t210,\t190,\t177,\t227,\t180,\t195,\t199,\t175,\t185,\t240,\t210,\t180,\t194,\t225,\t180,\t205,\t193,\t230,\t230,\t220,\t200,\t249,\t190,\t208,\t245,\t250,\t160,\t192,\t220,\t170,\t197,\t155,\t190,\t200,\t220,\t210,\t228,\t190,\t160,\t184,\t180,\t180,\t200,\t176,\t160,\t222,\t211,\t195,\t200,\t175,\t206,\t240,\t185,\t260,\t185,\t221,\t205,\t200,\t170,\t201,\t205,\t185,\t205,\t245,\t220,\t210,\t220,\t185,\t175,\t170,\t180,\t200,\t210,\t175,\t220,\t206,\t180,\t210,\t195,\t200,\t200,\t164,\t180,\t220,\t195,\t205,\t170,\t240,\t210,\t195,\t200,\t205,\t192,\t190,\t170,\t240,\t200,\t205,\t175,\t250,\t220,\t224,\t210,\t195,\t180,\t245,\t175,\t180,\t215,\t175,\t180,\t195,\t230,\t230,\t205,\t215,\t195,\t180,\t205,\t180,\t190,\t180,\t190,\t190,\t220,\t210,\t255,\t190,\t230,\t200,\t205,\t210,\t225,\t215,\t220,\t205,\t200,\t220,\t197,\t225,\t187,\t245,\t185,\t185,\t175,\t200,\t180,\t188,\t225,\t200,\t210,\t245,\t213,\t231,\t165,\t228,\t210,\t250,\t191,\t190,\t200,\t215,\t254,\t232,\t180,\t215,\t220,\t180,\t200,\t170,\t195,\t210,\t200,\t220,\t165,\t180,\t200,\t200,\t170,\t224,\t220,\t180,\t198,\t240,\t239,\t185,\t210,\t220,\t200,\t195,\t220,\t230,\t170,\t220,\t230,\t165,\t205,\t192,\t210,\t205,\t200,\t210,\t185,\t195,\t202,\t205,\t195,\t180,\t200,\t185,\t240,\t185,\t220,\t205,\t205,\t180,\t201,\t190,\t208,\t240,\t180,\t230,\t195,\t215,\t190,\t195,\t215,\t215,\t220,\t220,\t230,\t195,\t190,\t195,\t209,\t204,\t170,\t185,\t205,\t175,\t210,\t190,\t180,\t180,\t160,\t235,\t200,\t210,\t180,\t190,\t197,\t203,\t205,\t170,\t200,\t250,\t200,\t220,\t200,\t190,\t170,\t190,\t220,\t215,\t206,\t215,\t185,\t235,\t188,\t230,\t195,\t168,\t190,\t160,\t200,\t200,\t189,\t180,\t190,\t200,\t220,\t187,\t240,\t190,\t180,\t185,\t210,\t220,\t219,\t190,\t193,\t175,\t180,\t215,\t210,\t200,\t190,\t185,\t220,\t170,\t195,\t205,\t195,\t210,\t190,\t190,\t180,\t220,\t190,\t186,\t185,\t190,\t180,\t190,\t170,\t210,\t240,\t220,\t180,\t210,\t210,\t195,\t160,\t180,\t205,\t200,\t185,\t245,\t190,\t210,\t200,\t200,\t222,\t215,\t240,\t170,\t220,\t156,\t190,\t202,\t221,\t200,\t190,\t210,\t190,\t200,\t165,\t190,\t185,\t230,\t208,\t209,\t175,\t180,\t200,\t205,\t200,\t250,\t210,\t230,\t244,\t202,\t240,\t200,\t215,\t177,\t210,\t170,\t215,\t217,\t198,\t200,\t220,\t170,\t200,\t230,\t231,\t183,\t192,\t167,\t190,\t180,\t180,\t215,\t160,\t205,\t223,\t175,\t170,\t190,\t240,\t175,\t230,\t223,\t196,\t167,\t195,\t190,\t250,\t190,\t190,\t190,\t170,\t160,\t150,\t225,\t220,\t209,\t210,\t176,\t260,\t195,\t190,\t184,\t180,\t195,\t195,\t219,\t225,\t212,\t202,\t185,\t200,\t209,\t200,\t195,\t228,\t210,\t190,\t212,\t190,\t218,\t220,\t190,\t235,\t210,\t200,\t188,\t210,\t235,\t188,\t215,\t216,\t220,\t180,\t185,\t200,\t210,\t220,\t185,\t231,\t210,\t195,\t200,\t205,\t200,\t190,\t250,\t185,\t180,\t170,\t180,\t208,\t235,\t215,\t244,\t220,\t185,\t230,\t190,\t200,\t180,\t190,\t196,\t180,\t230,\t224,\t160,\t178,\t205,\t185,\t210,\t180,\t190,\t200,\t257,\t190,\t220,\t165,\t205,\t200,\t208,\t185,\t215,\t170,\t235,\t210,\t170,\t180,\t170,\t190,\t150,\t230,\t203,\t260,\t246,\t186,\t210,\t198,\t210,\t215,\t180,\t200,\t245,\t200,\t192,\t192,\t200,\t192,\t205,\t190,\t186,\t170,\t197,\t219,\t200,\t220,\t207,\t225,\t207,\t212,\t225,\t170,\t190,\t210,\t230,\t210,\t200,\t238,\t234,\t222,\t200,\t190,\t170,\t220,\t223,\t210,\t215,\t196,\t175,\t175,\t189,\t205,\t210,\t180,\t180,\t197,\t220,\t228,\t190,\t204,\t165,\t216,\t220,\t208,\t210,\t215,\t195,\t200,\t215,\t229,\t240,\t207,\t205,\t208,\t185,\t190,\t170,\t208,\t225,\t190,\t225,\t185,\t180,\t165,\t240,\t220,\t212,\t163,\t215,\t175,\t205,\t210,\t205,\t208,\t215,\t180,\t200,\t230,\t211,\t230,\t190,\t220,\t180,\t205,\t190,\t180,\t205,\t190,\t195]\n",
    "\n",
    "\n",
    "for i in np_height:\n",
    "    print(str(i)+\" inches\")\n",
    "    \n",
    "for j in np.nditer(np_baseball):\n",
    "    print(j,end=\"_\")"
   ]
  },
  {
   "cell_type": "markdown",
   "metadata": {},
   "source": [
    "## Loop over DataFrame (1)\n",
    "Iterating over a Pandas DataFrame is typically done with the **iterrows()** method. Used in a for loop, every observation is iterated over and on every iteration the row label and actual row contents are available:\n",
    "\n",
    "***for lab, row in brics.iterrows() : <br>\n",
    "    &emsp;...***\n",
    "\n",
    "In this and the following exercises you will be working on the **cars** DataFrame. It contains information on the cars per capita and whether people drive right or left for seven countries in the world.\n",
    "\n",
    "### Instructions\n",
    "\n",
    "- Write a **for** loop that iterates over the rows of **cars** and on each iteration perform two **print()** calls: one to print out the row label and one to print out all of the rows contents."
   ]
  },
  {
   "cell_type": "code",
   "execution_count": 12,
   "metadata": {},
   "outputs": [
    {
     "name": "stdout",
     "output_type": "stream",
     "text": [
      "US\n",
      "cars_per_cap              809\n",
      "country         United States\n",
      "drives_right             True\n",
      "Name: US, dtype: object\n",
      "AUS\n",
      "cars_per_cap          731\n",
      "country         Australia\n",
      "drives_right        False\n",
      "Name: AUS, dtype: object\n",
      "JAP\n",
      "cars_per_cap      588\n",
      "country         Japan\n",
      "drives_right    False\n",
      "Name: JAP, dtype: object\n",
      "IN\n",
      "cars_per_cap       18\n",
      "country         India\n",
      "drives_right    False\n",
      "Name: IN, dtype: object\n",
      "RU\n",
      "cars_per_cap       200\n",
      "country         Russia\n",
      "drives_right      True\n",
      "Name: RU, dtype: object\n",
      "MOR\n",
      "cars_per_cap         70\n",
      "country         Morocco\n",
      "drives_right       True\n",
      "Name: MOR, dtype: object\n",
      "EG\n",
      "cars_per_cap       45\n",
      "country         Egypt\n",
      "drives_right     True\n",
      "Name: EG, dtype: object\n"
     ]
    }
   ],
   "source": [
    "import pandas as pd\n",
    "cars = pd.read_csv('../Dictionaries & Pandas/cars.csv',index_col=0)\n",
    "\n",
    "for r,c in cars.iterrows():\n",
    "    print(r)\n",
    "    print(c)"
   ]
  },
  {
   "cell_type": "markdown",
   "metadata": {},
   "source": [
    "## Loop over DataFrame (2)\n",
    "The row data that's generated by **iterrows()** on every run is a Pandas Series. This format is not very convenient to print out. Luckily, you can easily select variables from the Pandas Series using square brackets:\n",
    "\n",
    "***for lab, row in brics.iterrows() :<br>\n",
    "    &emsp;print(row['country'])***<br>\n",
    "\n",
    "### Instructions\n",
    "\n",
    "- Using the iterators **lab** and **row**, adapt the code in the for loop such that the first iteration prints out **\"US: 809\"**, the second iteration **\"AUS: 731\"**, and so on.\n",
    "- The output should be in the form **\"country: cars_per_cap\"**. Make sure to print out this exact string (with the correct spacing).\n",
    "- *You can use **str()** to convert your integer data to a string so that you can print it in conjunction with the country label.*"
   ]
  },
  {
   "cell_type": "code",
   "execution_count": 16,
   "metadata": {},
   "outputs": [
    {
     "name": "stdout",
     "output_type": "stream",
     "text": [
      "US: 809\n",
      "AUS: 731\n",
      "JAP: 588\n",
      "IN: 18\n",
      "RU: 200\n",
      "MOR: 70\n",
      "EG: 45\n"
     ]
    }
   ],
   "source": [
    "for lab, row in cars.iterrows():\n",
    "    print(lab+\": \"+str(row[\"cars_per_cap\"]))"
   ]
  },
  {
   "cell_type": "markdown",
   "metadata": {},
   "source": [
    "## Add column (1)\n",
    "In the video, Hugo showed you how to add the length of the country names of the **brics** DataFrame in a new column:\n",
    "\n",
    "***for lab, row in brics.iterrows() :<br>\n",
    "    &emsp;brics.loc[lab, \"name_length\"] = len(row[\"country\"])***<br>\n",
    "    \n",
    "You can do similar things on the **cars** DataFrame.\n",
    "\n",
    "### Instructions\n",
    "\n",
    "- Use a **for** loop to add a new column, named **COUNTRY**, that contains a uppercase version of the country names in the **\"country\"** column. You can use the string method **upper()** for this.\n",
    "- To see if your code worked, print out **cars**. Don't indent this code, so that it's not part of the **for** loop."
   ]
  },
  {
   "cell_type": "code",
   "execution_count": 26,
   "metadata": {},
   "outputs": [
    {
     "name": "stdout",
     "output_type": "stream",
     "text": [
      "     cars_per_cap        country  drives_right        COUNTRY\n",
      "US            809  United States          True  UNITED STATES\n",
      "AUS           731      Australia         False      AUSTRALIA\n",
      "JAP           588          Japan         False          JAPAN\n",
      "IN             18          India         False          INDIA\n",
      "RU            200         Russia          True         RUSSIA\n",
      "MOR            70        Morocco          True        MOROCCO\n",
      "EG             45          Egypt          True          EGYPT\n"
     ]
    }
   ],
   "source": [
    "for x, y in cars.iterrows():\n",
    "    cars.loc[x,\"COUNTRY\"] = y[\"country\"].upper()\n",
    "\n",
    "print(cars)"
   ]
  },
  {
   "cell_type": "markdown",
   "metadata": {},
   "source": [
    "## Add column (2)\n",
    "Using **iterrows()** to iterate over every observation of a Pandas DataFrame is easy to understand, but not very efficient. On every iteration, you're creating a new Pandas Series.\n",
    "\n",
    "If you want to add a column to a DataFrame by calling a function on another column, the **iterrows()** method in combination with a for loop is not the preferred way to go. Instead, you'll want to use apply().\n",
    "\n",
    "Compare the **iterrows()** version with the **apply()** version to get the same result in the **brics** DataFrame:\n",
    "\n",
    "***for lab, row in brics.iterrows() :<br>\n",
    "    &emsp;brics.loc[lab, \"name_length\"] = len(row[\"country\"])***<br>\n",
    "\n",
    "***brics[\"name_length\"] = brics[\"country\"].apply(len)***\n",
    "\n",
    "We can do a similar thing to call the upper() method on every name in the country column. However, upper() is a method, so we'll need a slightly different approach:\n",
    "\n",
    "### Instructions\n",
    "\n",
    "- Replace the **for** loop with a one-liner that uses **.apply(str.upper)**. The call should give the same result: a column **COUNTRY** should be added to **cars**, containing an uppercase version of the country names.\n",
    "- As usual, print out **cars** to see the fruits of your hard labor"
   ]
  },
  {
   "cell_type": "code",
   "execution_count": 27,
   "metadata": {},
   "outputs": [
    {
     "name": "stdout",
     "output_type": "stream",
     "text": [
      "     cars_per_cap        country  drives_right        COUNTRY\n",
      "US            809  United States          True  UNITED STATES\n",
      "AUS           731      Australia         False      AUSTRALIA\n",
      "JAP           588          Japan         False          JAPAN\n",
      "IN             18          India         False          INDIA\n",
      "RU            200         Russia          True         RUSSIA\n",
      "MOR            70        Morocco          True        MOROCCO\n",
      "EG             45          Egypt          True          EGYPT\n"
     ]
    }
   ],
   "source": [
    "import pandas as pd\n",
    "cars = pd.read_csv('../Dictionaries & Pandas/cars.csv',index_col=0)\n",
    "\n",
    "cars[\"COUNTRY\"] = cars['country'].apply(str.upper)\n",
    "\n",
    "print(cars)"
   ]
  },
  {
   "cell_type": "code",
   "execution_count": null,
   "metadata": {},
   "outputs": [],
   "source": []
  }
 ],
 "metadata": {
  "interpreter": {
   "hash": "1c49298971bf539fe56860cf72510440f9c691c8b4f7aa806b89e675cbf902fa"
  },
  "kernelspec": {
   "display_name": "Python 3.9.7 64-bit ('base': conda)",
   "language": "python",
   "name": "python3"
  },
  "language_info": {
   "codemirror_mode": {
    "name": "ipython",
    "version": 3
   },
   "file_extension": ".py",
   "mimetype": "text/x-python",
   "name": "python",
   "nbconvert_exporter": "python",
   "pygments_lexer": "ipython3",
   "version": "3.9.7"
  },
  "orig_nbformat": 4
 },
 "nbformat": 4,
 "nbformat_minor": 2
}
