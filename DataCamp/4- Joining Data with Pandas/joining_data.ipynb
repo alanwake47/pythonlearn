{
 "cells": [
  {
   "cell_type": "markdown",
   "metadata": {},
   "source": [
    "## Your first inner join\n",
    "You have been tasked with figuring out what the most popular types of fuel used in Chicago taxis are. To complete the analysis, you need to merge the taxi_owners and taxi_veh tables together on the vid column. You can then use the merged table along with the **.value_counts()** method to find the most common **fuel_type**.\n",
    "\n",
    "Since you'll be working with pandas throughout the course, the package will be preloaded for you as pd in each exercise in this course. Also the **taxi_owners** and **taxi_veh** DataFrames are loaded for you.\n",
    "\n",
    "### Instructions\n",
    "\n",
    "- Merge taxi_owners with **taxi_veh** on the column vid, and save the result to **taxi_own_veh**.\n",
    "\n",
    "- Set the left and right table suffixes for overlapping columns of the merge to **_own** and **_veh**, respectively.\n",
    "\n",
    "- Select the **fuel_type** column from **taxi_own_veh** and print the **value_counts()** to find the most popular **fuel_types** used."
   ]
  },
  {
   "cell_type": "code",
   "execution_count": 4,
   "metadata": {},
   "outputs": [],
   "source": [
    "import pandas as pd\n",
    "taxi_owners = pd.read_pickle('taxi_owners.p')\n",
    "taxi_veh = pd.read_pickle('taxi_vehicles.p')"
   ]
  },
  {
   "cell_type": "code",
   "execution_count": 11,
   "metadata": {},
   "outputs": [
    {
     "name": "stdout",
     "output_type": "stream",
     "text": [
      "HYBRID                    2792\n",
      "GASOLINE                   611\n",
      "FLEX FUEL                   89\n",
      "COMPRESSED NATURAL GAS      27\n",
      "Name: fuel_type, dtype: int64\n"
     ]
    }
   ],
   "source": [
    "taxi_own_veh = taxi_owners.merge(taxi_veh, on=\"vid\", suffixes=('_own', '_veh'))\n",
    "\n",
    "print(taxi_own_veh['fuel_type'].value_counts())"
   ]
  },
  {
   "cell_type": "markdown",
   "metadata": {},
   "source": [
    "## Inner joins and number of rows returned\n",
    "All of the merges you have studied to this point are called inner joins. It is necessary to understand that inner joins only return the rows with matching values in both tables. You will explore this further by reviewing the merge between the wards and census tables, then comparing it to merges of copies of these tables that are slightly altered, named **wards_altered**, and **census_altered**. The first row of the **wards** column has been changed in the altered tables. You will examine how this affects the merge between them. The tables have been loaded for you.\n",
    "\n",
    "For this exercise, it is important to know that the **wards** and **census** tables start with 50 rows.\n",
    "\n",
    "### Instructions\n",
    "- Merge wards and census on the **ward** column and save the result to **wards_census**.\n",
    "\n",
    "- Merge the **wards_altered** and census tables on the **ward** column, and notice the difference in returned rows."
   ]
  },
  {
   "cell_type": "code",
   "execution_count": 43,
   "metadata": {},
   "outputs": [
    {
     "name": "stdout",
     "output_type": "stream",
     "text": [
      "ward        object\n",
      "pop_2000     int64\n",
      "pop_2010     int64\n",
      "change      object\n",
      "address     object\n",
      "zip         object\n",
      "dtype: object\n",
      "ward        object\n",
      "alderman    object\n",
      "address     object\n",
      "zip         object\n",
      "dtype: object\n"
     ]
    }
   ],
   "source": [
    "wards = pd.read_pickle('ward.p')\n",
    "census = pd.read_pickle('census.p')\n",
    "wards_altered = pd.read_csv('wards_altered.csv')\n",
    "wards_altered[\"ward\"] = wards_altered[\"ward\"].astype('object')\n",
    "wards_altered[\"zip\"] = wards_altered[\"zip\"].astype('object')\n",
    "print(census.dtypes)\n",
    "print(wards_altered.dtypes)\n"
   ]
  },
  {
   "cell_type": "code",
   "execution_count": 44,
   "metadata": {},
   "outputs": [
    {
     "name": "stdout",
     "output_type": "stream",
     "text": [
      "(50, 9)\n"
     ]
    }
   ],
   "source": [
    "wards_census = wards.merge(census, on='ward')\n",
    "print(wards_census.shape)"
   ]
  },
  {
   "cell_type": "code",
   "execution_count": 45,
   "metadata": {},
   "outputs": [
    {
     "name": "stdout",
     "output_type": "stream",
     "text": [
      "  ward\n",
      "0   61\n",
      "1    2\n",
      "2    3\n",
      "3    4\n",
      "4    5\n",
      "wards_altered_census table shape: (0, 9)\n"
     ]
    }
   ],
   "source": [
    "# Print the first few rows of the wards_altered table to view the change \n",
    "print(wards_altered[['ward']].head())\n",
    "\n",
    "# Merge the wards_altered and census tables on the ward column\n",
    "wards_altered_census = wards_altered.merge(census, on='ward')\n",
    "\n",
    "# Print the shape of wards_altered_census\n",
    "print('wards_altered_census table shape:', wards_altered_census.shape)"
   ]
  }
 ],
 "metadata": {
  "interpreter": {
   "hash": "1c49298971bf539fe56860cf72510440f9c691c8b4f7aa806b89e675cbf902fa"
  },
  "kernelspec": {
   "display_name": "Python 3.9.7 64-bit ('base': conda)",
   "language": "python",
   "name": "python3"
  },
  "language_info": {
   "codemirror_mode": {
    "name": "ipython",
    "version": 3
   },
   "file_extension": ".py",
   "mimetype": "text/x-python",
   "name": "python",
   "nbconvert_exporter": "python",
   "pygments_lexer": "ipython3",
   "version": "3.9.7"
  },
  "orig_nbformat": 4
 },
 "nbformat": 4,
 "nbformat_minor": 2
}
