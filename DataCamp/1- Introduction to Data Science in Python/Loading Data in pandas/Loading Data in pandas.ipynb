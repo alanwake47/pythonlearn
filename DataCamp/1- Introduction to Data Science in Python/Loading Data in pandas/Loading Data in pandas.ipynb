{
 "cells": [
  {
   "cell_type": "markdown",
   "metadata": {},
   "source": [
    "## Loading a DataFrame\n",
    "We're still working hard to solve the kidnapping of Bayes, the Golden Retriever. Previously, we used a license plate spotted at the crime scene to narrow the list of suspects to:\n",
    "\n",
    "Fred Frequentist\n",
    "Ronald Aylmer Fisher\n",
    "Gertrude Cox\n",
    "Kirstine Smith\n",
    "We've obtained credit card records for all four suspects. Perhaps some of them made suspicious purchases before the kidnapping?\n",
    "\n",
    "The records are in a CSV called **\"credit_records.csv\"**.\n",
    "\n",
    "### Instructions\n",
    "\n",
    "- Import the **pandas** module under the alias **pd**.\n",
    "- Load the CSV **\"credit_records.csv\"** into a DataFrame called **credit_records**.\n",
    "- Display the first five rows of **credit_records** using the **.head()** method."
   ]
  },
  {
   "cell_type": "code",
   "execution_count": 6,
   "metadata": {},
   "outputs": [
    {
     "name": "stdout",
     "output_type": "stream",
     "text": [
      "            suspect         location       date         item  price\n",
      "0    Kirstine Smith   Groceries R Us   6-Jan-18     broccoli   1.25\n",
      "1      Gertrude Cox  Petroleum Plaza   6-Jan-18  fizzy drink   1.90\n",
      "2  Fred Frequentist   Groceries R Us   6-Jan-18     broccoli   1.25\n",
      "3      Gertrude Cox   Groceries R Us  12-Jan-18     broccoli   1.25\n",
      "4    Kirstine Smith    Clothing Club   9-Jan-18        shirt  14.25\n"
     ]
    }
   ],
   "source": [
    "# Import pandas under the alias pd\n",
    "import pandas as pd\n",
    "\n",
    "# Load the CSV \"credit_records.csv\"\n",
    "credit_records = pd.read_csv(\"credit_records.csv\")\n",
    "\n",
    "# Display the first five rows of credit_records using the .head() method\n",
    "print(credit_records.head())"
   ]
  },
  {
   "cell_type": "markdown",
   "metadata": {},
   "source": [
    "## Inspecting a DataFrame\n",
    "We've loaded the credit card records of our four suspects into a DataFrame called **credit_records**. Let's learn more about the structure of this DataFrame.\n",
    "\n",
    "The **pandas** module has been imported under the alias **pd**. The DataFrame **credit_records** has already been imported.\n",
    "\n",
    "How many rows are in **credit_records**?\n",
    "\n",
    "### Instructions\n",
    "\n",
    "- Use the **.info()** method to inspect the DataFrame **credit_records**\n",
    "- Question\n",
    "  How many rows are in credit_records?\n",
    "\n",
    "Possible Answers\n",
    "\n",
    "- [ ] 103\n",
    "- [x] 104\n",
    "- [ ] 5\n",
    "- [ ] 64"
   ]
  },
  {
   "cell_type": "code",
   "execution_count": 7,
   "metadata": {},
   "outputs": [
    {
     "name": "stdout",
     "output_type": "stream",
     "text": [
      "<class 'pandas.core.frame.DataFrame'>\n",
      "RangeIndex: 104 entries, 0 to 103\n",
      "Data columns (total 5 columns):\n",
      " #   Column    Non-Null Count  Dtype  \n",
      "---  ------    --------------  -----  \n",
      " 0   suspect   104 non-null    object \n",
      " 1   location  104 non-null    object \n",
      " 2   date      104 non-null    object \n",
      " 3   item      104 non-null    object \n",
      " 4   price     103 non-null    float64\n",
      "dtypes: float64(1), object(4)\n",
      "memory usage: 4.2+ KB\n",
      "None\n"
     ]
    }
   ],
   "source": [
    "#Use .info() to inspect the DataFrame credit_records\n",
    "print(credit_records.info())"
   ]
  },
  {
   "cell_type": "markdown",
   "metadata": {},
   "source": [
    "## Two methods for selecting columns\n",
    "Once again, we've loaded the credit card records of our four suspects into a DataFrame called **credit_records**. Let's examine the items that they've purchased.\n",
    "\n",
    "The **pandas** module has been imported under the alias **pd**. The DataFrame **credit_records** has already been imported.\n",
    "\n",
    "Instructions\n",
    "\n",
    "- Select the column **item** from **credit_records** using brackets and string notation.\n",
    "- Select the column **item** from **credit_records** using dot notation."
   ]
  },
  {
   "cell_type": "code",
   "execution_count": 11,
   "metadata": {},
   "outputs": [
    {
     "name": "stdout",
     "output_type": "stream",
     "text": [
      "0         broccoli\n",
      "1      fizzy drink\n",
      "2         broccoli\n",
      "3         broccoli\n",
      "4            shirt\n",
      "          ...     \n",
      "99           shirt\n",
      "100          pants\n",
      "101          dress\n",
      "102         burger\n",
      "103      cucumbers\n",
      "Name: item, Length: 104, dtype: object\n"
     ]
    }
   ],
   "source": [
    "# Select the column item from credit_records\n",
    "# Use brackets and string notation\n",
    "\n",
    "items = credit_records['item']\n",
    "#items = credit_records.item\n",
    "\n",
    "# Display the results\n",
    "print(items)"
   ]
  },
  {
   "cell_type": "markdown",
   "metadata": {},
   "source": [
    "## Correcting column selection errors\n",
    "A junior detective tried to access the location columns of **credit_records**, but he made some mistakes. Help correct his code so that we can search for suspicious purchases.\n",
    "\n",
    "In all exercises going forward, **pandas** will be imported as **pd**. The DataFrame **credit_records** has already been imported.\n",
    "\n",
    "### Instructions\n",
    "\n",
    "Correct the code so that it runs without errors."
   ]
  },
  {
   "cell_type": "code",
   "execution_count": 13,
   "metadata": {},
   "outputs": [
    {
     "name": "stdout",
     "output_type": "stream",
     "text": [
      "0       Groceries R Us\n",
      "1      Petroleum Plaza\n",
      "2       Groceries R Us\n",
      "3       Groceries R Us\n",
      "4        Clothing Club\n",
      "            ...       \n",
      "99       Clothing Club\n",
      "100      Clothing Club\n",
      "101      Clothing Club\n",
      "102        Burger Mart\n",
      "103     Groceries R Us\n",
      "Name: location, Length: 104, dtype: object\n"
     ]
    }
   ],
   "source": [
    "# One or more lines of code contain errors.\n",
    "# Fix the errors so that the code runs.\n",
    "\n",
    "# Select the location column in credit_records\n",
    "#location = credit_records[location]\n",
    "location = credit_records['location']\n",
    "\n",
    "# Select the item column in credit_records\n",
    "#items = credit_records.\"item\"\n",
    "items = credit_records.item\n",
    "\n",
    "# Display results\n",
    "print(location)"
   ]
  },
  {
   "cell_type": "markdown",
   "metadata": {},
   "source": [
    "## More column selection mistakes\n",
    "Another junior detective is examining a DataFrame of Missing Puppy Reports. He's made some mistakes that cause the code to fail.\n",
    "\n",
    "The **pandas** module has been loaded under the alias **pd**, and the DataFrame is called **mpr**.\n",
    "\n",
    "### Instructions\n",
    "\n",
    "- Inspect the DataFrame **mpr** using **info()**.\n",
    "- Correct the mistakes in the code so that it runs without errors.\n",
    "- Why did this code generate an error?\n",
    "\n",
    "**name = mpr.Dog Name**\n",
    "\n",
    "Possible Answers\n",
    "\n",
    "- [ ] We need to remove the space in Dog Name.\n",
    "\n",
    "- [ ] If a column name has capital letters, then it needs to be in brackets and string notation.\n",
    "\n",
    "- [x] If a column name contains a space, then it needs to be in brackets and string notation."
   ]
  },
  {
   "cell_type": "code",
   "execution_count": 18,
   "metadata": {},
   "outputs": [
    {
     "name": "stdout",
     "output_type": "stream",
     "text": [
      "<class 'pandas.core.frame.DataFrame'>\n",
      "RangeIndex: 4 entries, 0 to 3\n",
      "Data columns (total 4 columns):\n",
      " #   Column      Non-Null Count  Dtype \n",
      "---  ------      --------------  ----- \n",
      " 0   Dog Name    4 non-null      object\n",
      " 1   Owner Name  3 non-null      object\n",
      " 2   Dog Breed   4 non-null      object\n",
      " 3   Missing?    4 non-null      object\n",
      "dtypes: object(4)\n",
      "memory usage: 256.0+ bytes\n",
      "None\n",
      "0         Bayes\n",
      "1       Sigmoid\n",
      "2    Sparky Dr.\n",
      "3       Theorem\n",
      "Name: Dog Name, dtype: object\n",
      "0    Still Missing\n",
      "1    Still Missing\n",
      "2            Found\n",
      "3            Found\n",
      "Name: Missing?, dtype: object\n"
     ]
    }
   ],
   "source": [
    "mpr = pd.read_csv('mpr.csv')\n",
    "# Use info() to inspect mpr\n",
    "print(mpr.info())\n",
    "\n",
    "# Select column \"Dog Name\" from mpr\n",
    "name = mpr[\"Dog Name\"]\n",
    "\n",
    "# Select column \"Missing?\" from mpr\n",
    "is_missing = mpr[\"Missing?\"]\n",
    "\n",
    "# Display the columns\n",
    "print(name)\n",
    "print(is_missing)"
   ]
  },
  {
   "cell_type": "markdown",
   "metadata": {},
   "source": [
    "## Logical testing\n",
    "Let's practice writing logical statements and displaying the output.\n",
    "\n",
    "Recall that we use the following operators:\n",
    "\n",
    "**==** tests that two values are equal.\n",
    "**!=** tests that two values are not equal.\n",
    "**> and <** test that greater than or less than, respectively.\n",
    "**>= and <=** test greater than or equal to or less than or equal to, respectively.\n",
    "\n",
    "### Instructions\n",
    "\n",
    "The variable **height_inches** represents the height of a suspect. Is **height_inches** greater than **70** inches?"
   ]
  },
  {
   "cell_type": "code",
   "execution_count": 21,
   "metadata": {},
   "outputs": [
    {
     "name": "stdout",
     "output_type": "stream",
     "text": [
      "False\n",
      "True\n",
      "True\n"
     ]
    }
   ],
   "source": [
    "height_inches = 65\n",
    "# Is height_inches greater than 70 inches?\n",
    "print(height_inches > 70)\n",
    "\n",
    "plate1 = \"FRQ123\"\n",
    "# Is plate1 equal to \"FRQ123\"?\n",
    "print(plate1 == \"FRQ123\")\n",
    "\n",
    "fur_color = \"blonde\"\n",
    "# Is fur_color not equal to \"brown\"?\n",
    "print(fur_color != \"brown\")"
   ]
  },
  {
   "cell_type": "markdown",
   "metadata": {},
   "source": [
    "## Selecting missing puppies\n",
    "Let's return to our DataFrame of missing puppies, which is loaded as **mpr**. Let's select a few different rows to learn more about the other missing dogs.\n",
    "\n",
    "### Instructions\n",
    "\n",
    "- Select the dogs where **Age** is greater than **2**.\n",
    "- Select the dogs whose **Status** is equal to **Still Missing**.\n",
    "- Select all dogs whose **Dog Breed** is not equal to **Poodle**."
   ]
  },
  {
   "cell_type": "code",
   "execution_count": null,
   "metadata": {},
   "outputs": [],
   "source": []
  }
 ],
 "metadata": {
  "interpreter": {
   "hash": "1c49298971bf539fe56860cf72510440f9c691c8b4f7aa806b89e675cbf902fa"
  },
  "kernelspec": {
   "display_name": "Python 3.9.7 64-bit ('base': conda)",
   "language": "python",
   "name": "python3"
  },
  "language_info": {
   "codemirror_mode": {
    "name": "ipython",
    "version": 3
   },
   "file_extension": ".py",
   "mimetype": "text/x-python",
   "name": "python",
   "nbconvert_exporter": "python",
   "pygments_lexer": "ipython3",
   "version": "3.9.7"
  },
  "orig_nbformat": 4
 },
 "nbformat": 4,
 "nbformat_minor": 2
}
