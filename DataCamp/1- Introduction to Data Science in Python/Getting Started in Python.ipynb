{
 "cells": [
  {
   "cell_type": "markdown",
   "metadata": {},
   "source": [
    "## Importing Python modules\n",
    "#### Modules (sometimes called packages or libraries) help group together related sets of tools in Python. In this exercise, we'll examine two modules that are frequently used by Data Scientists:\n",
    "\n",
    "- **statsmodels**: used in machine learning; usually aliased as **sm**\n",
    "- **seaborn**: a visualization library; usually aliased as **sns**\n",
    "- Note that each module has a standard alias, which allows you to access the tools inside of the module without typing as many characters.\n",
    "- For example, aliasing lets us shorten seaborn.**scatterplot()** to **sns.scatterplot()**.\n",
    "### Instructions\n",
    "- In the script editor, use an **import** statement to import **statsmodels**.\n",
    "- Add an **as** statement to alias **statsmodels** to **sm**.\n",
    "- Add an **as** statement to alias **seaborn** to **sns**."
   ]
  },
  {
   "cell_type": "code",
   "execution_count": 1,
   "metadata": {},
   "outputs": [],
   "source": [
    "import statsmodels"
   ]
  },
  {
   "cell_type": "code",
   "execution_count": 2,
   "metadata": {},
   "outputs": [],
   "source": [
    "import statsmodels as sm"
   ]
  },
  {
   "cell_type": "code",
   "execution_count": 3,
   "metadata": {},
   "outputs": [],
   "source": [
    "import seaborn as sns"
   ]
  },
  {
   "cell_type": "markdown",
   "metadata": {},
   "source": [
    "## Correcting a broken import\n",
    "\n",
    "In this exercise, we'll learn to import **numpy**, a module for performing mathematical operations on lists of data. The standard alias for **numpy **is **np**.\n",
    "\n",
    "What did you need to change to make the import run without errors?\n",
    "\n",
    "### Instructions\n"
   ]
  }
 ],
 "metadata": {
  "interpreter": {
   "hash": "1c49298971bf539fe56860cf72510440f9c691c8b4f7aa806b89e675cbf902fa"
  },
  "kernelspec": {
   "display_name": "Python 3.9.7 64-bit ('base': conda)",
   "language": "python",
   "name": "python3"
  },
  "language_info": {
   "codemirror_mode": {
    "name": "ipython",
    "version": 3
   },
   "file_extension": ".py",
   "mimetype": "text/x-python",
   "name": "python",
   "nbconvert_exporter": "python",
   "pygments_lexer": "ipython3",
   "version": "3.9.7"
  },
  "orig_nbformat": 4
 },
 "nbformat": 4,
 "nbformat_minor": 2
}
