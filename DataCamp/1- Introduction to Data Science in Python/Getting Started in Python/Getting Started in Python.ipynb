{
 "cells": [
  {
   "cell_type": "markdown",
   "metadata": {},
   "source": [
    "## Importing Python modules\n",
    "#### Modules (sometimes called packages or libraries) help group together related sets of tools in Python. In this exercise, we'll examine two modules that are frequently used by Data Scientists:\n",
    "\n",
    "- **statsmodels**: used in machine learning; usually aliased as **sm**\n",
    "- **seaborn**: a visualization library; usually aliased as **sns**\n",
    "- Note that each module has a standard alias, which allows you to access the tools inside of the module without typing as many characters.\n",
    "- For example, aliasing lets us shorten seaborn.**scatterplot()** to **sns.scatterplot()**.\n",
    "### Instructions\n",
    "- In the script editor, use an **import** statement to import **statsmodels**.\n",
    "- Add an **as** statement to alias **statsmodels** to **sm**.\n",
    "- Add an **as** statement to alias **seaborn** to **sns**."
   ]
  },
  {
   "cell_type": "code",
   "execution_count": 1,
   "metadata": {},
   "outputs": [],
   "source": [
    "import statsmodels"
   ]
  },
  {
   "cell_type": "code",
   "execution_count": 2,
   "metadata": {},
   "outputs": [],
   "source": [
    "import statsmodels as sm"
   ]
  },
  {
   "cell_type": "code",
   "execution_count": 3,
   "metadata": {},
   "outputs": [],
   "source": [
    "import seaborn as sns"
   ]
  },
  {
   "cell_type": "markdown",
   "metadata": {},
   "source": [
    "## Correcting a broken import\n",
    "\n",
    "In this exercise, we'll learn to import **numpy**, a module for performing mathematical operations on lists of data. The standard alias for **numpy **is **np**.\n",
    "\n",
    "What did you need to change to make the import run without errors?\n",
    "\n",
    "### Instructions\n",
    "\n",
    "- Fix the import of numpy to run without errors.\n"
   ]
  },
  {
   "cell_type": "code",
   "execution_count": 1,
   "metadata": {},
   "outputs": [
    {
     "ename": "ModuleNotFoundError",
     "evalue": "No module named 'NumPy'",
     "output_type": "error",
     "traceback": [
      "\u001b[1;31m---------------------------------------------------------------------------\u001b[0m",
      "\u001b[1;31mModuleNotFoundError\u001b[0m                       Traceback (most recent call last)",
      "\u001b[1;32m~\\AppData\\Local\\Temp/ipykernel_10784/463701141.py\u001b[0m in \u001b[0;36m<module>\u001b[1;34m\u001b[0m\n\u001b[0;32m      1\u001b[0m \u001b[1;31m# Fix the import of numpy to run without errors\u001b[0m\u001b[1;33m\u001b[0m\u001b[1;33m\u001b[0m\u001b[0m\n\u001b[1;32m----> 2\u001b[1;33m \u001b[1;32mimport\u001b[0m \u001b[0mNumPy\u001b[0m \u001b[1;32mas\u001b[0m \u001b[0mnp\u001b[0m\u001b[1;33m\u001b[0m\u001b[1;33m\u001b[0m\u001b[0m\n\u001b[0m",
      "\u001b[1;31mModuleNotFoundError\u001b[0m: No module named 'NumPy'"
     ]
    }
   ],
   "source": [
    "# Fix the import of numpy to run without errors\n",
    "import NumPy as np"
   ]
  },
  {
   "cell_type": "code",
   "execution_count": 2,
   "metadata": {},
   "outputs": [],
   "source": [
    "import numpy as np"
   ]
  },
  {
   "cell_type": "markdown",
   "metadata": {},
   "source": [
    "## Creating a float\n",
    "\n",
    "Before we start looking for Bayes' kidnapper, we need to fill out a Missing Puppy Report with details of the case. Each piece of information will be stored as a variable.\n",
    "\n",
    "We define a variable using an equals sign **(=)**. For instance, we would define the variable **height**:\n",
    "\n",
    "**height = 24**\n",
    "In this exercise, we'll be defining **bayes_age** to be **4.0** months old. The data type for this variable will be float, meaning that it is a number.\n",
    "\n",
    "### Instructions\n",
    "- Define a variable called bayes_age and set it equal to 4.0.\n",
    "- Display the variable bayes_age."
   ]
  },
  {
   "cell_type": "code",
   "execution_count": 1,
   "metadata": {},
   "outputs": [
    {
     "name": "stdout",
     "output_type": "stream",
     "text": [
      "4.0\n"
     ]
    }
   ],
   "source": [
    "# Fill in Bayes' age (4.0)\n",
    "bayes_age = 4.0\n",
    "\n",
    "# Display the variable bayes_age\n",
    "print(bayes_age)"
   ]
  },
  {
   "cell_type": "markdown",
   "metadata": {},
   "source": [
    "## Creating strings\n",
    "Let's continue to fill out the Missing Puppy Report for Bayes. In the previous exercise, we defined **bayes_age**, which was a float, which represents a number.\n",
    "\n",
    "In this exercise, we'll define **favorite_toy** and **owner**, which will both be strings. A string represents text. A string is surrounded by quotation marks **(' or \")** and can contain letters, numbers, and special characters. It doesn't matter if you use **single** (') or **double** (\") quotes, but it's important to be consistent throughout your code.\n",
    "\n",
    "### Instructions\n",
    "\n",
    "- Define a variable called **favorite_toy** whose value is **\"Mr. Squeaky\"**.\n",
    "- Define a variable called **owner** whose value is **'DataCamp'**.\n",
    "- Show the values assigned to these variables."
   ]
  },
  {
   "cell_type": "code",
   "execution_count": 2,
   "metadata": {},
   "outputs": [
    {
     "name": "stdout",
     "output_type": "stream",
     "text": [
      "Mr. Squeaky\n",
      "DataCamp\n"
     ]
    }
   ],
   "source": [
    "# Bayes' favorite toy\n",
    "favorite_toy = \"Mr. Squeaky\"\n",
    "\n",
    "# Bayes' owner\n",
    "owner = 'DataCamp'\n",
    "\n",
    "# Display variables\n",
    "print(favorite_toy)\n",
    "print(owner)"
   ]
  },
  {
   "cell_type": "markdown",
   "metadata": {},
   "source": [
    "## Correcting string errors\n",
    "It's easy to make errors when you're trying to type strings quickly.\n",
    "\n",
    "Don't forget to use quotes! Without quotes, you'll get a name error.\n",
    "**owner = DataCamp**\n",
    "Use the same type of quotation mark. If you start with a single quote, and end with a double quote, you'll get a syntax error.\n",
    "**fur_color = \"blonde'**\n",
    "Someone at the police station made an error when filling out the final lines of Bayes' Missing Puppy Report. In this exercise, you will correct the errors.\n",
    "\n",
    "### Instructions\n",
    "- Correct the mistakes in the code so that it runs without producing syntax errors."
   ]
  },
  {
   "cell_type": "code",
   "execution_count": 3,
   "metadata": {},
   "outputs": [
    {
     "ename": "SyntaxError",
     "evalue": "EOL while scanning string literal (Temp/ipykernel_16744/1744494333.py, line 7)",
     "output_type": "error",
     "traceback": [
      "\u001b[1;36m  File \u001b[1;32m\"C:\\Users\\Aman\\AppData\\Local\\Temp/ipykernel_16744/1744494333.py\"\u001b[1;36m, line \u001b[1;32m7\u001b[0m\n\u001b[1;33m    birthday = \"2017-07-14'\u001b[0m\n\u001b[1;37m                           ^\u001b[0m\n\u001b[1;31mSyntaxError\u001b[0m\u001b[1;31m:\u001b[0m EOL while scanning string literal\n"
     ]
    }
   ],
   "source": [
    "# One or more of the following lines contains an error\n",
    "# Correct it so that it runs without producing syntax errors\n",
    "birthday = \"2017-07-14'\n",
    "case_id = 'DATACAMP!123-456?"
   ]
  },
  {
   "cell_type": "code",
   "execution_count": 4,
   "metadata": {},
   "outputs": [],
   "source": [
    "birthday = \"2017-07-14\"\n",
    "case_id = 'DATACAMP!123-456'"
   ]
  },
  {
   "cell_type": "markdown",
   "metadata": {},
   "source": [
    "## Valid variable names\n",
    "Which of the following is *not* a valid variable name?\n",
    "Possible Answers\n",
    "\n",
    "- [ ] my_dog_bayes\n",
    "- [ ] BAYES42\n",
    "- [x] 3dogs _(starts with number)_\n",
    "- [ ] this_is_a_very_long_variable_name_42\n"
   ]
  },
  {
   "cell_type": "markdown",
   "metadata": {},
   "source": [
    "## Load a DataFrame\n",
    "A ransom note was left at the scene of Bayes' kidnapping. Eventually, we'll want to analyze the frequency with which each letter occurs in the note, to help us identify the kidnapper. For now, we just need to load the data from **ransom.csv** into Python.\n",
    "\n",
    "We'll load the data into a DataFrame, a special *data type* from the **pandas** module. It represents spreadsheet-like data (something with rows and columns).\n",
    "\n",
    "We can create a DataFrame from a CSV (comma-separated value) file by using the function **pd.read_csv**.\n",
    "\n",
    "### Instructions\n",
    "\n",
    "Use **pd.read_csv** to load data from a CSV file called **ransom.csv**. This file represents the frequency of each letter in the ransom note for Bayes."
   ]
  },
  {
   "cell_type": "code",
   "execution_count": 5,
   "metadata": {},
   "outputs": [
    {
     "name": "stdout",
     "output_type": "stream",
     "text": [
      "    letter_index letter  frequency\n",
      "0              1      A       7.38\n",
      "1              2      B       1.09\n",
      "2              3      C       2.46\n",
      "3              4      D       4.10\n",
      "4              5      E      12.84\n",
      "5              6      F       1.37\n",
      "6              7      G       1.09\n",
      "7              8      H       3.55\n",
      "8              9      I       7.65\n",
      "9             10      J       0.00\n",
      "10            11      K       3.01\n",
      "11            12      L       3.28\n",
      "12            13      M       2.46\n",
      "13            14      N       7.38\n",
      "14            15      O       6.83\n",
      "15            16      P       7.65\n",
      "16            17      Q       0.00\n",
      "17            18      R       4.92\n",
      "18            19      S       4.10\n",
      "19            20      T       6.28\n",
      "20            21      U       4.37\n",
      "21            22      V       1.09\n",
      "22            23      W       2.46\n",
      "23            24      X       0.00\n",
      "24            25      Y       4.64\n",
      "25            26      Z       0.00\n"
     ]
    }
   ],
   "source": [
    "# Import pandas\n",
    "import pandas as pd\n",
    "\n",
    "# Load the 'ransom.csv' into a DataFrame\n",
    "r = pd.read_csv('ransom.csv')\n",
    "\n",
    "\n",
    "# Display DataFrame\n",
    "print(r)"
   ]
  },
  {
   "cell_type": "markdown",
   "metadata": {},
   "source": [
    "## Correcting a function error\n",
    "The code in the script editor should plot information from the DataFrame that we loaded in the previous exercise.\n",
    "\n",
    "However, there is an error in function syntax. Remember that common function errors include:\n",
    "\n",
    "Forgetting closing parenthesis\n",
    "Forgetting commas between each argument\n",
    "Note that all arguments to the functions are correct. The problem is in the function syntax.\n",
    "\n",
    "### Instructions\n",
    "\n",
    "- Correct the code so that it runs without syntax errors"
   ]
  },
  {
   "cell_type": "code",
   "execution_count": 23,
   "metadata": {},
   "outputs": [
    {
     "data": {
      "image/png": "[encoded data removed]",
      "text/plain": [
       "<Figure size 432x288 with 1 Axes>"
      ]
     },
     "metadata": {
      "needs_background": "light"
     },
     "output_type": "display_data"
    }
   ],
   "source": [
    "# One or more of the following lines contains an error\n",
    "# Correct it so that it runs without producing syntax errors\n",
    "from matplotlib import pyplot as plt\n",
    "\n",
    "x_values = pd.Series(r[\"letter\"])\n",
    "y_values = pd.Series(r[\"frequency\"])\n",
    "# Plot a graph\n",
    "\n",
    "plt.plot(x_values, y_values)\n",
    "\n",
    "# Display the graph\n",
    "plt.show()"
   ]
  },
  {
   "cell_type": "markdown",
   "metadata": {},
   "source": [
    "## Snooping for suspects\n",
    "We need to narrow down the list of suspects for the kidnapping of Bayes. Once we have a list of suspects, we'll ask them for writing samples and compare them to the ransom note.\n",
    "\n",
    "A witness to the crime noticed a green truck leaving the scene of the crime whose license plate began with 'FRQ'. We'll use this information to search for some suspects.\n",
    "\n",
    "As a detective, you have access to a special function called **lookup_plate**.\n",
    "\n",
    "**lookup_plate** accepts one positional argument: A string representing a license plate.\n",
    "\n",
    "### Instructions\n",
    "\n",
    "- Create a variable called **plate** that represents the observed license plate: the first three letters were **FRQ**, but the witness couldn't see the final 4 letters. Use asterisks **(*)** to represent missing letters\n",
    "- Call **lookup_plate()** using the variable **plate**.\n",
    "- Calling **lookup_plate()** with the license plate **FRQ****** produced too many results. Luckily, **lookup_plate()** also accepts a keyword argument: color. Use the color of the car **('Green')** to get a smaller list."
   ]
  },
  {
   "cell_type": "code",
   "execution_count": 24,
   "metadata": {},
   "outputs": [],
   "source": [
    "# Define plate to represent a plate beginning with FRQ\n",
    "# Use * to represent the missing four letters\n",
    "plate = \"FRQ****\"\n",
    "\n",
    "# Call the function lookup_plate()\n",
    "#lookup_plate(plate)\n",
    "\n",
    "# Call lookup_plate() with the keyword argument for color\n",
    "#lookup_plate(plate, color=\"Green\")"
   ]
  }
 ],
 "metadata": {
  "interpreter": {
   "hash": "1c49298971bf539fe56860cf72510440f9c691c8b4f7aa806b89e675cbf902fa"
  },
  "kernelspec": {
   "display_name": "Python 3.9.7 64-bit ('base': conda)",
   "language": "python",
   "name": "python3"
  },
  "language_info": {
   "codemirror_mode": {
    "name": "ipython",
    "version": 3
   },
   "file_extension": ".py",
   "mimetype": "text/x-python",
   "name": "python",
   "nbconvert_exporter": "python",
   "pygments_lexer": "ipython3",
   "version": "3.9.7"
  },
  "orig_nbformat": 4
 },
 "nbformat": 4,
 "nbformat_minor": 2
}
