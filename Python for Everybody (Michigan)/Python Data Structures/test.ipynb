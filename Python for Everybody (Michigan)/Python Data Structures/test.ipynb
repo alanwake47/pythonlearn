{
 "cells": [
  {
   "cell_type": "code",
   "execution_count": 13,
   "metadata": {},
   "outputs": [
    {
     "name": "stdout",
     "output_type": "stream",
     "text": [
      "cwen@iupui.edu 5\n"
     ]
    }
   ],
   "source": [
    "import os\n",
    "#os.chdir(r'/Users/amankrishna/Git/pythonlearn/Python for Everybody (Michigan)/Python Data Structures/')\n",
    "path = os.path.expanduser(\"~/Git/pythonlearn/Python for Everybody (Michigan)/Python Data Structures/\")\n",
    "fname = 'mbox-short.txt'\n",
    "try:\n",
    "    fh = open(path+fname, 'r')  \n",
    "except:\n",
    "    print('enter a valid filename')\n",
    "    quit()\n",
    "\n",
    "\n",
    "words = []\n",
    "counts = {}\n",
    "for line in fh:\n",
    "    if line[:5] != \"From \":\n",
    "        continue\n",
    "    else:\n",
    "        words = line.split()\n",
    "        counts[words[1]] = counts.get(words[1],0) +1\n",
    "\n",
    "topc = None\n",
    "topw = None\n",
    "for key, value in counts.items():\n",
    "    if topc == None or value>topc:\n",
    "        topw = key\n",
    "        topc = value\n",
    "\n",
    "print(topw,topc)"
   ]
  }
 ],
 "metadata": {
  "interpreter": {
   "hash": "5e62c483ecf48ad4e1bb5f903abeb626d4ffc56eab47e05d9eff835eeb907be7"
  },
  "kernelspec": {
   "display_name": "Python 3.9.7 64-bit ('base': conda)",
   "language": "python",
   "name": "python3"
  },
  "language_info": {
   "codemirror_mode": {
    "name": "ipython",
    "version": 3
   },
   "file_extension": ".py",
   "mimetype": "text/x-python",
   "name": "python",
   "nbconvert_exporter": "python",
   "pygments_lexer": "ipython3",
   "version": "3.9.7"
  },
  "orig_nbformat": 4
 },
 "nbformat": 4,
 "nbformat_minor": 2
}
