{
 "cells": [
  {
   "cell_type": "code",
   "execution_count": 13,
   "metadata": {},
   "outputs": [
    {
     "name": "stdout",
     "output_type": "stream",
     "text": [
      "cwen@iupui.edu 5\n"
     ]
    }
   ],
   "source": [
    "import os\n",
    "#os.chdir(r'/Users/amankrishna/Git/pythonlearn/Python for Everybody (Michigan)/Python Data Structures/')\n",
    "path = os.path.expanduser(\"~/Git/pythonlearn/Python for Everybody (Michigan)/Python Data Structures/\")\n",
    "fname = 'mbox-short.txt'\n",
    "try:\n",
    "    fh = open(path+fname, 'r')  \n",
    "except:\n",
    "    print('enter a valid filename')\n",
    "    quit()\n",
    "\n",
    "\n",
    "words = []\n",
    "counts = {}\n",
    "for line in fh:\n",
    "    if line[:5] != \"From \":\n",
    "        continue\n",
    "    else:\n",
    "        words = line.split()\n",
    "        counts[words[1]] = counts.get(words[1],0) +1\n",
    "\n",
    "topc = None\n",
    "topw = None\n",
    "for key, value in counts.items():\n",
    "    if topc == None or value>topc:\n",
    "        topw = key\n",
    "        topc = value\n",
    "\n",
    "print(topw,topc)"
   ]
  },
  {
   "cell_type": "code",
   "execution_count": 20,
   "metadata": {},
   "outputs": [
    {
     "name": "stdout",
     "output_type": "stream",
     "text": [
      "{'09': 2, '18': 1, '16': 4, '15': 2, '14': 1, '11': 6, '10': 3, '07': 1, '06': 1, '04': 3, '19': 1, '17': 2}\n"
     ]
    }
   ],
   "source": [
    "import os\n",
    "os.chdir(r'C:\\Users\\Aman\\Git\\pythonlearn\\Python for Everybody (Michigan)\\Python Data Structures')\n",
    "fname = \"mbox-short.txt\"\n",
    "\n",
    "try:\n",
    "    fh = open(fname,'r')\n",
    "except:\n",
    "    print(\"Enter a valid filename\")\n",
    "    quit()\n",
    "\n",
    "hcount = {}\n",
    "for line in fh:\n",
    "    if line[:5] != \"From \":\n",
    "        continue\n",
    "    else:\n",
    "        words = line.split()\n",
    "        hour = words[5].split(':')[0]\n",
    "        hcount[hour] = hcount.get(hour,0)+1\n",
    "\n",
    "for k,v in sorted(hcount.items()):\n",
    "    print(k,v)"
   ]
  },
  {
   "cell_type": "code",
   "execution_count": 22,
   "metadata": {},
   "outputs": [
    {
     "name": "stdout",
     "output_type": "stream",
     "text": [
      "04 3\n",
      "06 1\n",
      "07 1\n",
      "09 2\n",
      "10 3\n",
      "11 6\n",
      "14 1\n",
      "15 2\n",
      "16 4\n",
      "17 2\n",
      "18 1\n",
      "19 1\n"
     ]
    }
   ],
   "source": []
  }
 ],
 "metadata": {
  "interpreter": {
   "hash": "5e62c483ecf48ad4e1bb5f903abeb626d4ffc56eab47e05d9eff835eeb907be7"
  },
  "kernelspec": {
   "display_name": "Python 3.9.7 64-bit ('base': conda)",
   "language": "python",
   "name": "python3"
  },
  "language_info": {
   "codemirror_mode": {
    "name": "ipython",
    "version": 3
   },
   "file_extension": ".py",
   "mimetype": "text/x-python",
   "name": "python",
   "nbconvert_exporter": "python",
   "pygments_lexer": "ipython3",
   "version": "3.9.7"
  },
  "orig_nbformat": 4
 },
 "nbformat": 4,
 "nbformat_minor": 2
}
